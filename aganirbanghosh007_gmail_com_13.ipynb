{
 "cells": [
  {
   "cell_type": "code",
   "execution_count": 0,
   "metadata": {
    "colab": {},
    "colab_type": "code",
    "id": "vqBWAeVjPicI"
   },
   "outputs": [],
   "source": [
    "from __future__ import print_function\n",
    "import keras\n",
    "from keras.datasets import mnist\n",
    "from keras.models import Sequential\n",
    "from keras.layers import Dense, Dropout, Flatten\n",
    "from keras.layers import Conv2D, MaxPooling2D\n",
    "from keras import backend as K\n",
    "\n",
    "import warnings\n",
    "warnings.filterwarnings('ignore')"
   ]
  },
  {
   "cell_type": "code",
   "execution_count": 6,
   "metadata": {
    "colab": {
     "base_uri": "https://localhost:8080/",
     "height": 68
    },
    "colab_type": "code",
    "id": "qK77_IqEQWVt",
    "outputId": "cfcfb6cd-1507-41a8-d9f4-b0798797397c"
   },
   "outputs": [
    {
     "name": "stdout",
     "output_type": "stream",
     "text": [
      "x_train shape: (60000, 28, 28, 1)\n",
      "60000 train samples\n",
      "10000 test samples\n"
     ]
    }
   ],
   "source": [
    "batch_size = 128\n",
    "num_classes = 10\n",
    "epochs = 12\n",
    "\n",
    "# input image dimensions\n",
    "img_rows, img_cols = 28, 28\n",
    "\n",
    "# the data, split between train and test sets\n",
    "(x_train, y_train), (x_test, y_test) = mnist.load_data()\n",
    "\n",
    "if K.image_data_format() == 'channels_first':\n",
    "    x_train = x_train.reshape(x_train.shape[0], 1, img_rows, img_cols)\n",
    "    x_test = x_test.reshape(x_test.shape[0], 1, img_rows, img_cols)\n",
    "    input_shape = (1, img_rows, img_cols)\n",
    "else:\n",
    "    x_train = x_train.reshape(x_train.shape[0], img_rows, img_cols, 1)\n",
    "    x_test = x_test.reshape(x_test.shape[0], img_rows, img_cols, 1)\n",
    "    input_shape = (img_rows, img_cols, 1)\n",
    "\n",
    "x_train = x_train.astype('float32')\n",
    "x_test = x_test.astype('float32')\n",
    "x_train /= 255\n",
    "x_test /= 255\n",
    "print('x_train shape:', x_train.shape)\n",
    "print(x_train.shape[0], 'train samples')\n",
    "print(x_test.shape[0], 'test samples')\n",
    "\n",
    "# convert class vectors to binary class matrices\n",
    "y_train = keras.utils.to_categorical(y_train, num_classes)\n",
    "y_test = keras.utils.to_categorical(y_test, num_classes)"
   ]
  },
  {
   "cell_type": "code",
   "execution_count": 0,
   "metadata": {
    "colab": {},
    "colab_type": "code",
    "id": "OveJQ0SrQeI6"
   },
   "outputs": [],
   "source": [
    "%matplotlib inline\n",
    "import matplotlib.pyplot as plt\n",
    "import numpy as np\n",
    "import time\n",
    "# https://gist.github.com/greydanus/f6eee59eaf1d90fcb3b534a25362cea4\n",
    "# https://stackoverflow.com/a/14434334\n",
    "# this function is used to update the plots for each epoch and error\n",
    "def plt_dynamic(x, vy, ty):\n",
    "  fig = plt.figure( facecolor='y', edgecolor='k')\n",
    "  plt.plot(x, vy, 'b', label=\"Validation Loss\")\n",
    "  plt.plot(x, ty, 'r', label=\"Train Loss\")\n",
    "  plt.xlabel('Epochs') \n",
    "  plt.ylabel('Categorical Crossentropy Loss')\n",
    "  plt.legend()\n",
    "  plt.grid()\n",
    "  plt.show()"
   ]
  },
  {
   "cell_type": "markdown",
   "metadata": {
    "colab_type": "text",
    "id": "lJgxSQjiR2yl"
   },
   "source": [
    "**3 Covnets with 3X3 Kernels**"
   ]
  },
  {
   "cell_type": "code",
   "execution_count": 63,
   "metadata": {
    "colab": {
     "base_uri": "https://localhost:8080/",
     "height": 629
    },
    "colab_type": "code",
    "id": "OF9jz-HXRzm4",
    "outputId": "b78119d6-8a43-4676-d5fc-3a93e079f3d4"
   },
   "outputs": [
    {
     "name": "stdout",
     "output_type": "stream",
     "text": [
      "_________________________________________________________________\n",
      "Layer (type)                 Output Shape              Param #   \n",
      "=================================================================\n",
      "conv2d_101 (Conv2D)          (None, 26, 26, 32)        320       \n",
      "_________________________________________________________________\n",
      "batch_normalization_78 (Batc (None, 26, 26, 32)        128       \n",
      "_________________________________________________________________\n",
      "dropout_74 (Dropout)         (None, 26, 26, 32)        0         \n",
      "_________________________________________________________________\n",
      "conv2d_102 (Conv2D)          (None, 24, 24, 64)        18496     \n",
      "_________________________________________________________________\n",
      "batch_normalization_79 (Batc (None, 24, 24, 64)        256       \n",
      "_________________________________________________________________\n",
      "conv2d_103 (Conv2D)          (None, 22, 22, 128)       73856     \n",
      "_________________________________________________________________\n",
      "batch_normalization_80 (Batc (None, 22, 22, 128)       512       \n",
      "_________________________________________________________________\n",
      "max_pooling2d_32 (MaxPooling (None, 11, 11, 128)       0         \n",
      "_________________________________________________________________\n",
      "dropout_75 (Dropout)         (None, 11, 11, 128)       0         \n",
      "_________________________________________________________________\n",
      "flatten_16 (Flatten)         (None, 15488)             0         \n",
      "_________________________________________________________________\n",
      "dense_33 (Dense)             (None, 128)               1982592   \n",
      "_________________________________________________________________\n",
      "batch_normalization_81 (Batc (None, 128)               512       \n",
      "_________________________________________________________________\n",
      "dropout_76 (Dropout)         (None, 128)               0         \n",
      "_________________________________________________________________\n",
      "dense_34 (Dense)             (None, 10)                1290      \n",
      "=================================================================\n",
      "Total params: 2,077,962\n",
      "Trainable params: 2,077,258\n",
      "Non-trainable params: 704\n",
      "_________________________________________________________________\n",
      "None\n"
     ]
    }
   ],
   "source": [
    "import warnings\n",
    "warnings.filterwarnings(\"ignore\")\n",
    "\n",
    "from keras.layers.normalization import BatchNormalization\n",
    "model = Sequential()\n",
    "model.add(Conv2D(32, kernel_size=(3, 3),activation='relu',\n",
    "                 input_shape=input_shape))\n",
    "model.add(BatchNormalization())\n",
    "model.add(Dropout(0.25))\n",
    "model.add(Conv2D(64, (3, 3), activation='relu'))\n",
    "model.add(BatchNormalization())\n",
    "model.add(Conv2D(128,kernel_size=(3,3),activation='relu'))\n",
    "model.add(BatchNormalization())\n",
    "model.add(MaxPooling2D(pool_size=(2, 2)))\n",
    "model.add(Dropout(0.25))\n",
    "model.add(Flatten())\n",
    "model.add(Dense(128, activation='relu'))\n",
    "model.add(BatchNormalization())\n",
    "model.add(Dropout(0.5))\n",
    "model.add(Dense(num_classes, activation='softmax'))\n",
    "print(model.summary())"
   ]
  },
  {
   "cell_type": "code",
   "execution_count": 64,
   "metadata": {
    "colab": {
     "base_uri": "https://localhost:8080/",
     "height": 442
    },
    "colab_type": "code",
    "id": "a4TDeX9pT-nn",
    "outputId": "6420b5f0-df18-4605-ffda-b0273a84493a"
   },
   "outputs": [
    {
     "name": "stdout",
     "output_type": "stream",
     "text": [
      "Train on 60000 samples, validate on 10000 samples\n",
      "Epoch 1/12\n",
      "60000/60000 [==============================] - 30s 499us/step - loss: 0.1521 - acc: 0.9549 - val_loss: 0.0518 - val_acc: 0.9816\n",
      "Epoch 2/12\n",
      "60000/60000 [==============================] - 25s 423us/step - loss: 0.0623 - acc: 0.9815 - val_loss: 0.0375 - val_acc: 0.9872\n",
      "Epoch 3/12\n",
      "60000/60000 [==============================] - 25s 423us/step - loss: 0.0478 - acc: 0.9851 - val_loss: 0.0324 - val_acc: 0.9886\n",
      "Epoch 4/12\n",
      "60000/60000 [==============================] - 25s 422us/step - loss: 0.0382 - acc: 0.9883 - val_loss: 0.0252 - val_acc: 0.9916\n",
      "Epoch 5/12\n",
      "60000/60000 [==============================] - 25s 422us/step - loss: 0.0331 - acc: 0.9897 - val_loss: 0.0253 - val_acc: 0.9911\n",
      "Epoch 6/12\n",
      "60000/60000 [==============================] - 25s 422us/step - loss: 0.0271 - acc: 0.9912 - val_loss: 0.0212 - val_acc: 0.9936\n",
      "Epoch 7/12\n",
      "60000/60000 [==============================] - 25s 421us/step - loss: 0.0251 - acc: 0.9921 - val_loss: 0.0258 - val_acc: 0.9917\n",
      "Epoch 8/12\n",
      "60000/60000 [==============================] - 25s 423us/step - loss: 0.0200 - acc: 0.9937 - val_loss: 0.0231 - val_acc: 0.9920\n",
      "Epoch 9/12\n",
      "60000/60000 [==============================] - 25s 422us/step - loss: 0.0196 - acc: 0.9936 - val_loss: 0.0281 - val_acc: 0.9915\n",
      "Epoch 10/12\n",
      "60000/60000 [==============================] - 25s 424us/step - loss: 0.0176 - acc: 0.9941 - val_loss: 0.0227 - val_acc: 0.9930\n",
      "Epoch 11/12\n",
      "60000/60000 [==============================] - 25s 421us/step - loss: 0.0160 - acc: 0.9949 - val_loss: 0.0255 - val_acc: 0.9916\n",
      "Epoch 12/12\n",
      "60000/60000 [==============================] - 25s 422us/step - loss: 0.0147 - acc: 0.9953 - val_loss: 0.0237 - val_acc: 0.9929\n"
     ]
    }
   ],
   "source": [
    "model.compile(optimizer=keras.optimizers.Adam(),\n",
    "                loss=keras.losses.categorical_crossentropy,\n",
    "                metrics=['accuracy'])\n",
    "model_history=model.fit(x_train,y_train,batch_size=batch_size,\n",
    "                             epochs=epochs,\n",
    "                             verbose=1,\n",
    "                             validation_data=(x_test, y_test))"
   ]
  },
  {
   "cell_type": "code",
   "execution_count": 10,
   "metadata": {
    "colab": {
     "base_uri": "https://localhost:8080/",
     "height": 317
    },
    "colab_type": "code",
    "id": "JV_l7U-pV2Xk",
    "outputId": "565d080d-3a3f-4886-d9e6-ac4334934633"
   },
   "outputs": [
    {
     "name": "stdout",
     "output_type": "stream",
     "text": [
      "test score : 0.025529245845030163\n",
      "test sccuracy : 0.9926\n"
     ]
    },
    {
     "data": {
      "image/png": "[encoded data removed]",
      "text/plain": [
       "<Figure size 432x288 with 1 Axes>"
      ]
     },
     "metadata": {
      "tags": []
     },
     "output_type": "display_data"
    }
   ],
   "source": [
    "score=model.evaluate(x_test,y_test,verbose=0)\n",
    "test_score3=score[0]\n",
    "test_accuracy3=score[1]\n",
    "train_accuracy3=max(model_history.history['acc'])\n",
    "print('test score :',test_score3)\n",
    "print('test sccuracy :',test_accuracy3)\n",
    "# error plot\n",
    "x=list(range(1,epochs+1))\n",
    "vy=model_history.history['val_loss'] #validation loss\n",
    "ty=model_history.history['loss'] # train loss\n",
    "plt_dynamic(x, vy, ty)"
   ]
  },
  {
   "cell_type": "markdown",
   "metadata": {
    "colab_type": "text",
    "id": "ssneSe0KWJKJ"
   },
   "source": [
    "**Kernel Size of 5X5 and 5 Covnets**"
   ]
  },
  {
   "cell_type": "code",
   "execution_count": 11,
   "metadata": {
    "colab": {
     "base_uri": "https://localhost:8080/",
     "height": 765
    },
    "colab_type": "code",
    "id": "nH9ZYq0wWTfb",
    "outputId": "0070edd4-14f7-4e0b-daaf-82297477e82b"
   },
   "outputs": [
    {
     "name": "stdout",
     "output_type": "stream",
     "text": [
      "_________________________________________________________________\n",
      "Layer (type)                 Output Shape              Param #   \n",
      "=================================================================\n",
      "conv2d_7 (Conv2D)            (None, 28, 28, 32)        832       \n",
      "_________________________________________________________________\n",
      "conv2d_8 (Conv2D)            (None, 28, 28, 64)        51264     \n",
      "_________________________________________________________________\n",
      "max_pooling2d_3 (MaxPooling2 (None, 14, 14, 64)        0         \n",
      "_________________________________________________________________\n",
      "dropout_7 (Dropout)          (None, 14, 14, 64)        0         \n",
      "_________________________________________________________________\n",
      "conv2d_9 (Conv2D)            (None, 14, 14, 96)        153696    \n",
      "_________________________________________________________________\n",
      "max_pooling2d_4 (MaxPooling2 (None, 7, 7, 96)          0         \n",
      "_________________________________________________________________\n",
      "dropout_8 (Dropout)          (None, 7, 7, 96)          0         \n",
      "_________________________________________________________________\n",
      "conv2d_10 (Conv2D)           (None, 7, 7, 128)         307328    \n",
      "_________________________________________________________________\n",
      "max_pooling2d_5 (MaxPooling2 (None, 3, 3, 128)         0         \n",
      "_________________________________________________________________\n",
      "dropout_9 (Dropout)          (None, 3, 3, 128)         0         \n",
      "_________________________________________________________________\n",
      "conv2d_11 (Conv2D)           (None, 3, 3, 164)         524964    \n",
      "_________________________________________________________________\n",
      "max_pooling2d_6 (MaxPooling2 (None, 1, 1, 164)         0         \n",
      "_________________________________________________________________\n",
      "dropout_10 (Dropout)         (None, 1, 1, 164)         0         \n",
      "_________________________________________________________________\n",
      "flatten_3 (Flatten)          (None, 164)               0         \n",
      "_________________________________________________________________\n",
      "dense_5 (Dense)              (None, 256)               42240     \n",
      "_________________________________________________________________\n",
      "batch_normalization_9 (Batch (None, 256)               1024      \n",
      "_________________________________________________________________\n",
      "dropout_11 (Dropout)         (None, 256)               0         \n",
      "_________________________________________________________________\n",
      "dense_6 (Dense)              (None, 10)                2570      \n",
      "=================================================================\n",
      "Total params: 1,083,918\n",
      "Trainable params: 1,083,406\n",
      "Non-trainable params: 512\n",
      "_________________________________________________________________\n",
      "None\n"
     ]
    }
   ],
   "source": [
    "from keras.initializers import he_normal\n",
    "convnet5=Sequential() # Initializing the model\n",
    "\n",
    "# First ConvNet\n",
    "convnet5.add(Conv2D(32,kernel_size=(5,5),\n",
    "                    activation='relu',\n",
    "                    padding='same',\n",
    "                    input_shape=input_shape))\n",
    "\n",
    "convnet5.add(Conv2D(64,kernel_size=(5,5),\n",
    "                    padding='same',\n",
    "                    activation='relu'))#Second Convnet\n",
    "convnet5.add(MaxPooling2D(pool_size=(2,2)))\n",
    "convnet5.add(Dropout(0.25))\n",
    "\n",
    "convnet5.add(Conv2D(96,kernel_size=(5,5),\n",
    "                    padding='same',\n",
    "                   activation='relu'))  # 3rd ConvNet\n",
    "#maxpooling by (2,2 ) ,dropout,flattening\n",
    "convnet5.add(MaxPooling2D(pool_size=(2,2)))\n",
    "convnet5.add(Dropout(0.25))\n",
    "\n",
    "convnet5.add(Conv2D(128,kernel_size=(5,5),\n",
    "                    padding='same',\n",
    "                    activation='relu'))#fourth Convnet\n",
    "convnet5.add(MaxPooling2D(pool_size=(2,2)))\n",
    "convnet5.add(Dropout(0.25))\n",
    "convnet5.add(Conv2D(164,kernel_size=(5,5),\n",
    "                    padding='same',\n",
    "                    activation='relu'))#fifth Convnet\n",
    "convnet5.add(MaxPooling2D(pool_size=(2,2)))\n",
    "convnet5.add(Dropout(0.25))\n",
    "convnet5.add(Flatten())\n",
    "\n",
    "#hidden_layer\n",
    "convnet5.add(Dense(256,\n",
    "                   activation='relu',\n",
    "                   kernel_initializer=he_normal(seed=None)))\n",
    "convnet5.add(BatchNormalization())\n",
    "convnet5.add(Dropout(0.5))\n",
    "convnet5.add(Dense(num_classes,activation='softmax'))\n",
    "print(convnet5.summary())"
   ]
  },
  {
   "cell_type": "code",
   "execution_count": 12,
   "metadata": {
    "colab": {
     "base_uri": "https://localhost:8080/",
     "height": 442
    },
    "colab_type": "code",
    "id": "9CMBYYcrXS6L",
    "outputId": "76171861-0027-4298-f530-ebbbb51509ad"
   },
   "outputs": [
    {
     "name": "stdout",
     "output_type": "stream",
     "text": [
      "Train on 60000 samples, validate on 10000 samples\n",
      "Epoch 1/12\n",
      "60000/60000 [==============================] - 24s 406us/step - loss: 0.2990 - acc: 0.9031 - val_loss: 0.0502 - val_acc: 0.9850\n",
      "Epoch 2/12\n",
      "60000/60000 [==============================] - 22s 373us/step - loss: 0.0690 - acc: 0.9800 - val_loss: 0.0355 - val_acc: 0.9897\n",
      "Epoch 3/12\n",
      "60000/60000 [==============================] - 22s 373us/step - loss: 0.0510 - acc: 0.9855 - val_loss: 0.0317 - val_acc: 0.9908\n",
      "Epoch 4/12\n",
      "60000/60000 [==============================] - 22s 373us/step - loss: 0.0418 - acc: 0.9879 - val_loss: 0.0308 - val_acc: 0.9909\n",
      "Epoch 5/12\n",
      "60000/60000 [==============================] - 22s 373us/step - loss: 0.0333 - acc: 0.9906 - val_loss: 0.0227 - val_acc: 0.9929\n",
      "Epoch 6/12\n",
      "60000/60000 [==============================] - 22s 373us/step - loss: 0.0322 - acc: 0.9904 - val_loss: 0.0239 - val_acc: 0.9922\n",
      "Epoch 7/12\n",
      "60000/60000 [==============================] - 22s 373us/step - loss: 0.0267 - acc: 0.9923 - val_loss: 0.0277 - val_acc: 0.9927\n",
      "Epoch 8/12\n",
      "60000/60000 [==============================] - 22s 375us/step - loss: 0.0264 - acc: 0.9921 - val_loss: 0.0278 - val_acc: 0.9924\n",
      "Epoch 9/12\n",
      "60000/60000 [==============================] - 22s 374us/step - loss: 0.0239 - acc: 0.9930 - val_loss: 0.0243 - val_acc: 0.9936\n",
      "Epoch 10/12\n",
      "60000/60000 [==============================] - 22s 372us/step - loss: 0.0212 - acc: 0.9936 - val_loss: 0.0177 - val_acc: 0.9950\n",
      "Epoch 11/12\n",
      "60000/60000 [==============================] - 22s 372us/step - loss: 0.0194 - acc: 0.9945 - val_loss: 0.0262 - val_acc: 0.9925\n",
      "Epoch 12/12\n",
      "60000/60000 [==============================] - 22s 373us/step - loss: 0.0168 - acc: 0.9952 - val_loss: 0.0183 - val_acc: 0.9953\n"
     ]
    }
   ],
   "source": [
    "convnet5.compile(optimizer=keras.optimizers.Adam(),\n",
    "                loss=keras.losses.categorical_crossentropy,\n",
    "                metrics=['accuracy'])\n",
    "convnet5_history=convnet5.fit(x_train,y_train,batch_size=batch_size,\n",
    "                             epochs=epochs,\n",
    "                             verbose=1,\n",
    "                             validation_data=(x_test, y_test))"
   ]
  },
  {
   "cell_type": "code",
   "execution_count": 13,
   "metadata": {
    "colab": {
     "base_uri": "https://localhost:8080/",
     "height": 317
    },
    "colab_type": "code",
    "id": "JOC3962YZ0eE",
    "outputId": "ca14ddc9-5e18-457e-f9b5-57b716530593"
   },
   "outputs": [
    {
     "name": "stdout",
     "output_type": "stream",
     "text": [
      "test score : 0.01828602675205384\n",
      "test Accuracy : 0.9953\n"
     ]
    },
    {
     "data": {
      "image/png": "[encoded data removed]",
      "text/plain": [
       "<Figure size 432x288 with 1 Axes>"
      ]
     },
     "metadata": {
      "tags": []
     },
     "output_type": "display_data"
    }
   ],
   "source": [
    "score=convnet5.evaluate(x_test,y_test,verbose=0)\n",
    "test_score5=score[0]\n",
    "test_accuracy5=score[1]\n",
    "train_accuracy5=max(convnet5_history.history['acc'])\n",
    "print('test score :',test_score5)\n",
    "print('test Accuracy :',test_accuracy5)\n",
    "# error plot\n",
    "x=list(range(1,epochs+1))\n",
    "vy=convnet5_history.history['val_loss'] #validation loss\n",
    "ty=convnet5_history.history['loss'] # train loss\n",
    "plt_dynamic(x, vy, ty)"
   ]
  },
  {
   "cell_type": "markdown",
   "metadata": {
    "colab_type": "text",
    "id": "FwNQu-68Z5Ns"
   },
   "source": [
    "**Kernel Size of 2X2 and 7 Covnets**"
   ]
  },
  {
   "cell_type": "code",
   "execution_count": 14,
   "metadata": {
    "colab": {
     "base_uri": "https://localhost:8080/",
     "height": 1000
    },
    "colab_type": "code",
    "id": "J-E64-YZZ25g",
    "outputId": "fec99021-e1f2-439d-995d-43fc548aab06"
   },
   "outputs": [
    {
     "name": "stdout",
     "output_type": "stream",
     "text": [
      "_________________________________________________________________\n",
      "Layer (type)                 Output Shape              Param #   \n",
      "=================================================================\n",
      "conv2d_12 (Conv2D)           (None, 28, 28, 16)        80        \n",
      "_________________________________________________________________\n",
      "conv2d_13 (Conv2D)           (None, 14, 14, 32)        2080      \n",
      "_________________________________________________________________\n",
      "conv2d_14 (Conv2D)           (None, 14, 14, 64)        8256      \n",
      "_________________________________________________________________\n",
      "dropout_12 (Dropout)         (None, 14, 14, 64)        0         \n",
      "_________________________________________________________________\n",
      "conv2d_15 (Conv2D)           (None, 14, 14, 96)        24672     \n",
      "_________________________________________________________________\n",
      "max_pooling2d_7 (MaxPooling2 (None, 7, 7, 96)          0         \n",
      "_________________________________________________________________\n",
      "dropout_13 (Dropout)         (None, 7, 7, 96)          0         \n",
      "_________________________________________________________________\n",
      "conv2d_16 (Conv2D)           (None, 7, 7, 128)         49280     \n",
      "_________________________________________________________________\n",
      "max_pooling2d_8 (MaxPooling2 (None, 3, 3, 128)         0         \n",
      "_________________________________________________________________\n",
      "dropout_14 (Dropout)         (None, 3, 3, 128)         0         \n",
      "_________________________________________________________________\n",
      "conv2d_17 (Conv2D)           (None, 3, 3, 164)         84132     \n",
      "_________________________________________________________________\n",
      "conv2d_18 (Conv2D)           (None, 3, 3, 164)         107748    \n",
      "_________________________________________________________________\n",
      "max_pooling2d_9 (MaxPooling2 (None, 1, 1, 164)         0         \n",
      "_________________________________________________________________\n",
      "dropout_15 (Dropout)         (None, 1, 1, 164)         0         \n",
      "_________________________________________________________________\n",
      "flatten_4 (Flatten)          (None, 164)               0         \n",
      "_________________________________________________________________\n",
      "dense_7 (Dense)              (None, 256)               42240     \n",
      "_________________________________________________________________\n",
      "batch_normalization_10 (Batc (None, 256)               1024      \n",
      "_________________________________________________________________\n",
      "dropout_16 (Dropout)         (None, 256)               0         \n",
      "_________________________________________________________________\n",
      "dense_8 (Dense)              (None, 148)               38036     \n",
      "_________________________________________________________________\n",
      "batch_normalization_11 (Batc (None, 148)               592       \n",
      "_________________________________________________________________\n",
      "dropout_17 (Dropout)         (None, 148)               0         \n",
      "_________________________________________________________________\n",
      "dense_9 (Dense)              (None, 128)               19072     \n",
      "_________________________________________________________________\n",
      "batch_normalization_12 (Batc (None, 128)               512       \n",
      "_________________________________________________________________\n",
      "dropout_18 (Dropout)         (None, 128)               0         \n",
      "_________________________________________________________________\n",
      "dense_10 (Dense)             (None, 10)                1290      \n",
      "=================================================================\n",
      "Total params: 379,014\n",
      "Trainable params: 377,950\n",
      "Non-trainable params: 1,064\n",
      "_________________________________________________________________\n",
      "None\n"
     ]
    }
   ],
   "source": [
    "convnet7=Sequential() # Initializing the model\n",
    "\n",
    "# First ConvNet\n",
    "convnet7.add(Conv2D(16,kernel_size=(2,2),\n",
    "                    activation='relu',\n",
    "                    padding='same',strides=(1,1),\n",
    "                    input_shape=input_shape))\n",
    "\n",
    "\n",
    "convnet7.add(Conv2D(32,kernel_size=(2,2),\n",
    "                    padding='same',strides=(2,2),\n",
    "                    activation='relu'))\n",
    "\n",
    "\n",
    "convnet7.add(Conv2D(64,kernel_size=(2,2),\n",
    "                    padding='same',\n",
    "                   activation='relu'))  \n",
    "\n",
    "convnet7.add(Dropout(0.15))\n",
    "\n",
    "convnet7.add(Conv2D(96,kernel_size=(2,2),\n",
    "                    padding='same',\n",
    "                    activation='relu'))\n",
    "convnet7.add(MaxPooling2D(pool_size=(2,2)))\n",
    "convnet7.add(Dropout(0.39))\n",
    "convnet7.add(Conv2D(128,kernel_size=(2,2),\n",
    "                    padding='same',\n",
    "                    activation='relu'))\n",
    "convnet7.add(MaxPooling2D(pool_size=(2,2)))\n",
    "convnet7.add(Dropout(0.3))\n",
    "convnet7.add(Conv2D(164,kernel_size=(2,2),\n",
    "                    padding='same',\n",
    "                    activation='relu'))\n",
    "convnet7.add(Conv2D(164,kernel_size=(2,2),\n",
    "                    padding='same',strides=(1,1),\n",
    "                    activation='relu'))\n",
    "\n",
    "convnet7.add(MaxPooling2D(pool_size=(2,2)))\n",
    "convnet7.add(Dropout(0.4))\n",
    "convnet7.add(Flatten())\n",
    "\n",
    "convnet7.add(Dense(256,\n",
    "                   activation='relu',\n",
    "                   kernel_initializer=he_normal(seed=None)))\n",
    "convnet7.add(BatchNormalization())\n",
    "convnet7.add(Dropout(0.5))\n",
    "convnet7.add(Dense(148,\n",
    "                   activation='relu',\n",
    "                   kernel_initializer=he_normal(seed=None)))\n",
    "convnet7.add(BatchNormalization())\n",
    "convnet7.add(Dropout(0.5))\n",
    "convnet7.add(Dense(128,\n",
    "                   activation='relu',\n",
    "                   kernel_initializer=he_normal(seed=None)))\n",
    "convnet7.add(BatchNormalization())\n",
    "convnet7.add(Dropout(0.5))\n",
    "convnet7.add(Dense(num_classes,activation='softmax'))\n",
    "print(convnet7.summary())"
   ]
  },
  {
   "cell_type": "code",
   "execution_count": 15,
   "metadata": {
    "colab": {
     "base_uri": "https://localhost:8080/",
     "height": 442
    },
    "colab_type": "code",
    "id": "u8c7mPmsakp9",
    "outputId": "b587d05c-8bdd-42b3-d86a-41f1be0911da"
   },
   "outputs": [
    {
     "name": "stdout",
     "output_type": "stream",
     "text": [
      "Train on 60000 samples, validate on 10000 samples\n",
      "Epoch 1/12\n",
      "60000/60000 [==============================] - 19s 312us/step - loss: 1.9766 - acc: 0.3500 - val_loss: 1.6371 - val_acc: 0.4100\n",
      "Epoch 2/12\n",
      "60000/60000 [==============================] - 16s 269us/step - loss: 0.5426 - acc: 0.8284 - val_loss: 0.1406 - val_acc: 0.9629\n",
      "Epoch 3/12\n",
      "60000/60000 [==============================] - 16s 269us/step - loss: 0.2123 - acc: 0.9442 - val_loss: 0.0581 - val_acc: 0.9854\n",
      "Epoch 4/12\n",
      "60000/60000 [==============================] - 16s 270us/step - loss: 0.1477 - acc: 0.9626 - val_loss: 0.0465 - val_acc: 0.9882\n",
      "Epoch 5/12\n",
      "60000/60000 [==============================] - 16s 269us/step - loss: 0.1202 - acc: 0.9689 - val_loss: 0.0468 - val_acc: 0.9886\n",
      "Epoch 6/12\n",
      "60000/60000 [==============================] - 16s 269us/step - loss: 0.1006 - acc: 0.9748 - val_loss: 0.0490 - val_acc: 0.9876\n",
      "Epoch 7/12\n",
      "60000/60000 [==============================] - 16s 268us/step - loss: 0.0905 - acc: 0.9767 - val_loss: 0.0456 - val_acc: 0.9886\n",
      "Epoch 8/12\n",
      "60000/60000 [==============================] - 16s 268us/step - loss: 0.0824 - acc: 0.9793 - val_loss: 0.0502 - val_acc: 0.9885\n",
      "Epoch 9/12\n",
      "60000/60000 [==============================] - 16s 267us/step - loss: 0.0772 - acc: 0.9807 - val_loss: 0.0400 - val_acc: 0.9911\n",
      "Epoch 10/12\n",
      "60000/60000 [==============================] - 16s 268us/step - loss: 0.0707 - acc: 0.9825 - val_loss: 0.0411 - val_acc: 0.9908\n",
      "Epoch 11/12\n",
      "60000/60000 [==============================] - 16s 269us/step - loss: 0.0646 - acc: 0.9836 - val_loss: 0.0350 - val_acc: 0.9917\n",
      "Epoch 12/12\n",
      "60000/60000 [==============================] - 16s 270us/step - loss: 0.0580 - acc: 0.9861 - val_loss: 0.0291 - val_acc: 0.9933\n"
     ]
    }
   ],
   "source": [
    "convnet7.compile(optimizer=keras.optimizers.Adam(),\n",
    "                loss=keras.losses.categorical_crossentropy,\n",
    "                metrics=['accuracy'])\n",
    "convnet7_history=convnet7.fit(x_train,y_train,batch_size=batch_size,\n",
    "                             epochs=epochs,\n",
    "                             verbose=1,\n",
    "                             validation_data=(x_test, y_test))"
   ]
  },
  {
   "cell_type": "code",
   "execution_count": 16,
   "metadata": {
    "colab": {
     "base_uri": "https://localhost:8080/",
     "height": 317
    },
    "colab_type": "code",
    "id": "cJg8tcB6bISK",
    "outputId": "031c85d1-42f3-4869-dd26-83f96c4eb2ab"
   },
   "outputs": [
    {
     "name": "stdout",
     "output_type": "stream",
     "text": [
      "test score : 0.02905204060471151\n",
      "test Accuracy : 0.9933\n"
     ]
    },
    {
     "data": {
      "image/png": "[encoded data removed]",
      "text/plain": [
       "<Figure size 432x288 with 1 Axes>"
      ]
     },
     "metadata": {
      "tags": []
     },
     "output_type": "display_data"
    }
   ],
   "source": [
    "score=convnet7.evaluate(x_test,y_test,verbose=0)\n",
    "test_score7=score[0]\n",
    "test_accuracy7=score[1]\n",
    "train_accuracy7=max(convnet7_history.history['acc'])\n",
    "print('test score :',test_score7)\n",
    "print('test Accuracy :',test_accuracy7)\n",
    "# error plot\n",
    "x=list(range(1,epochs+1))\n",
    "vy=convnet7_history.history['val_loss'] #validation loss\n",
    "ty=convnet7_history.history['loss'] # train loss\n",
    "plt_dynamic(x, vy, ty)"
   ]
  },
  {
   "cell_type": "markdown",
   "metadata": {
    "colab_type": "text",
    "id": "G13CNGTdzRYs"
   },
   "source": [
    "**3 Covnet with 3X3 kernels and no Batch Normalization and Dropouts and Sigmoid Activation and SGD optimizer**"
   ]
  },
  {
   "cell_type": "code",
   "execution_count": 21,
   "metadata": {
    "colab": {
     "base_uri": "https://localhost:8080/",
     "height": 391
    },
    "colab_type": "code",
    "id": "mHjTAsSwzPwR",
    "outputId": "5ea89f7b-ea79-4d3c-e99c-8441e78f3a86"
   },
   "outputs": [
    {
     "name": "stdout",
     "output_type": "stream",
     "text": [
      "_________________________________________________________________\n",
      "Layer (type)                 Output Shape              Param #   \n",
      "=================================================================\n",
      "conv2d_22 (Conv2D)           (None, 26, 26, 32)        320       \n",
      "_________________________________________________________________\n",
      "conv2d_23 (Conv2D)           (None, 24, 24, 64)        18496     \n",
      "_________________________________________________________________\n",
      "conv2d_24 (Conv2D)           (None, 22, 22, 128)       73856     \n",
      "_________________________________________________________________\n",
      "max_pooling2d_11 (MaxPooling (None, 11, 11, 128)       0         \n",
      "_________________________________________________________________\n",
      "flatten_6 (Flatten)          (None, 15488)             0         \n",
      "_________________________________________________________________\n",
      "dense_13 (Dense)             (None, 128)               1982592   \n",
      "_________________________________________________________________\n",
      "dense_14 (Dense)             (None, 10)                1290      \n",
      "=================================================================\n",
      "Total params: 2,076,554\n",
      "Trainable params: 2,076,554\n",
      "Non-trainable params: 0\n",
      "_________________________________________________________________\n",
      "None\n"
     ]
    }
   ],
   "source": [
    "model = Sequential()\n",
    "model.add(Conv2D(32, kernel_size=(3, 3),activation='sigmoid',\n",
    "                 input_shape=input_shape))\n",
    "model.add(Conv2D(64, (3, 3), activation='sigmoid'))\n",
    "model.add(Conv2D(128,kernel_size=(3,3),activation='sigmoid'))\n",
    "model.add(MaxPooling2D(pool_size=(2, 2)))\n",
    "model.add(Flatten())\n",
    "model.add(Dense(128, activation='sigmoid'))\n",
    "model.add(Dense(num_classes, activation='softmax'))\n",
    "print(model.summary())"
   ]
  },
  {
   "cell_type": "code",
   "execution_count": 24,
   "metadata": {
    "colab": {
     "base_uri": "https://localhost:8080/",
     "height": 442
    },
    "colab_type": "code",
    "id": "LW3gM41EzzSt",
    "outputId": "5c4d7a5b-9e23-43e3-c36b-d915f855d224"
   },
   "outputs": [
    {
     "name": "stdout",
     "output_type": "stream",
     "text": [
      "Train on 60000 samples, validate on 10000 samples\n",
      "Epoch 1/12\n",
      "60000/60000 [==============================] - 17s 284us/step - loss: 2.3092 - acc: 0.1040 - val_loss: 2.3091 - val_acc: 0.1135\n",
      "Epoch 2/12\n",
      "60000/60000 [==============================] - 16s 259us/step - loss: 2.3062 - acc: 0.1057 - val_loss: 2.3023 - val_acc: 0.1135\n",
      "Epoch 3/12\n",
      "60000/60000 [==============================] - 16s 260us/step - loss: 2.3043 - acc: 0.1054 - val_loss: 2.3050 - val_acc: 0.1135\n",
      "Epoch 4/12\n",
      "60000/60000 [==============================] - 16s 260us/step - loss: 2.3033 - acc: 0.1088 - val_loss: 2.3032 - val_acc: 0.1028\n",
      "Epoch 5/12\n",
      "60000/60000 [==============================] - 16s 259us/step - loss: 2.3029 - acc: 0.1091 - val_loss: 2.3033 - val_acc: 0.0980\n",
      "Epoch 6/12\n",
      "60000/60000 [==============================] - 16s 259us/step - loss: 2.3026 - acc: 0.1085 - val_loss: 2.3014 - val_acc: 0.1135\n",
      "Epoch 7/12\n",
      "60000/60000 [==============================] - 16s 259us/step - loss: 2.3027 - acc: 0.1090 - val_loss: 2.3022 - val_acc: 0.1135\n",
      "Epoch 8/12\n",
      "60000/60000 [==============================] - 16s 259us/step - loss: 2.3024 - acc: 0.1099 - val_loss: 2.3033 - val_acc: 0.1032\n",
      "Epoch 9/12\n",
      "60000/60000 [==============================] - 16s 259us/step - loss: 2.3025 - acc: 0.1090 - val_loss: 2.3016 - val_acc: 0.1135\n",
      "Epoch 10/12\n",
      "60000/60000 [==============================] - 16s 259us/step - loss: 2.3024 - acc: 0.1096 - val_loss: 2.3034 - val_acc: 0.1135\n",
      "Epoch 11/12\n",
      "60000/60000 [==============================] - 16s 259us/step - loss: 2.3025 - acc: 0.1094 - val_loss: 2.3019 - val_acc: 0.1135\n",
      "Epoch 12/12\n",
      "60000/60000 [==============================] - 16s 258us/step - loss: 2.3024 - acc: 0.1093 - val_loss: 2.3011 - val_acc: 0.1135\n"
     ]
    }
   ],
   "source": [
    "model.compile(optimizer=keras.optimizers.SGD(),\n",
    "                loss=keras.losses.categorical_crossentropy,\n",
    "                metrics=['accuracy'])\n",
    "model_history=model.fit(x_train,y_train,batch_size=batch_size,\n",
    "                             epochs=epochs,\n",
    "                             verbose=1,\n",
    "                             validation_data=(x_test, y_test))"
   ]
  },
  {
   "cell_type": "code",
   "execution_count": 25,
   "metadata": {
    "colab": {
     "base_uri": "https://localhost:8080/",
     "height": 317
    },
    "colab_type": "code",
    "id": "MVZDtczt1ajU",
    "outputId": "ecc66cae-e685-4114-c6db-c969a6155ff9"
   },
   "outputs": [
    {
     "name": "stdout",
     "output_type": "stream",
     "text": [
      "test score : 2.3011483032226563\n",
      "test Accuracy : 0.1135\n"
     ]
    },
    {
     "data": {
      "image/png": "[encoded data removed]",
      "text/plain": [
       "<Figure size 432x288 with 1 Axes>"
      ]
     },
     "metadata": {
      "tags": []
     },
     "output_type": "display_data"
    }
   ],
   "source": [
    "score=model.evaluate(x_test,y_test,verbose=0)\n",
    "test_score7=score[0]\n",
    "test_accuracy7=score[1]\n",
    "train_accuracy7=max(model_history.history['acc'])\n",
    "print('test score :',test_score7)\n",
    "print('test Accuracy :',test_accuracy7)\n",
    "# error plot\n",
    "x=list(range(1,epochs+1))\n",
    "vy=model_history.history['val_loss'] #validation loss\n",
    "ty=model_history.history['loss'] # train loss\n",
    "plt_dynamic(x, vy, ty)"
   ]
  },
  {
   "cell_type": "markdown",
   "metadata": {
    "colab_type": "text",
    "id": "4roCL4FB1jH9"
   },
   "source": [
    "**3 Covnet with only Batch Normalization and Sigmoid Activation and SGD optimizer**"
   ]
  },
  {
   "cell_type": "code",
   "execution_count": 27,
   "metadata": {
    "colab": {
     "base_uri": "https://localhost:8080/",
     "height": 527
    },
    "colab_type": "code",
    "id": "s0V-kV0s1rfJ",
    "outputId": "e959797b-e04c-4ad7-fa72-abf8d2ac1c2f"
   },
   "outputs": [
    {
     "name": "stdout",
     "output_type": "stream",
     "text": [
      "_________________________________________________________________\n",
      "Layer (type)                 Output Shape              Param #   \n",
      "=================================================================\n",
      "conv2d_26 (Conv2D)           (None, 26, 26, 32)        320       \n",
      "_________________________________________________________________\n",
      "batch_normalization_13 (Batc (None, 26, 26, 32)        128       \n",
      "_________________________________________________________________\n",
      "conv2d_27 (Conv2D)           (None, 24, 24, 64)        18496     \n",
      "_________________________________________________________________\n",
      "batch_normalization_14 (Batc (None, 24, 24, 64)        256       \n",
      "_________________________________________________________________\n",
      "conv2d_28 (Conv2D)           (None, 22, 22, 128)       73856     \n",
      "_________________________________________________________________\n",
      "max_pooling2d_12 (MaxPooling (None, 11, 11, 128)       0         \n",
      "_________________________________________________________________\n",
      "batch_normalization_15 (Batc (None, 11, 11, 128)       512       \n",
      "_________________________________________________________________\n",
      "flatten_7 (Flatten)          (None, 15488)             0         \n",
      "_________________________________________________________________\n",
      "dense_15 (Dense)             (None, 128)               1982592   \n",
      "_________________________________________________________________\n",
      "batch_normalization_16 (Batc (None, 128)               512       \n",
      "_________________________________________________________________\n",
      "dense_16 (Dense)             (None, 10)                1290      \n",
      "=================================================================\n",
      "Total params: 2,077,962\n",
      "Trainable params: 2,077,258\n",
      "Non-trainable params: 704\n",
      "_________________________________________________________________\n",
      "None\n"
     ]
    }
   ],
   "source": [
    "model = Sequential()\n",
    "model.add(Conv2D(32, kernel_size=(3, 3),activation='sigmoid',\n",
    "                 input_shape=input_shape))\n",
    "model.add(BatchNormalization())\n",
    "model.add(Conv2D(64, (3, 3), activation='sigmoid'))\n",
    "model.add(BatchNormalization())\n",
    "model.add(Conv2D(128,kernel_size=(3,3),activation='sigmoid'))\n",
    "model.add(MaxPooling2D(pool_size=(2, 2)))\n",
    "model.add(BatchNormalization())\n",
    "model.add(Flatten())\n",
    "model.add(Dense(128, activation='sigmoid'))\n",
    "model.add(BatchNormalization())\n",
    "model.add(Dense(num_classes, activation='softmax'))\n",
    "print(model.summary())"
   ]
  },
  {
   "cell_type": "code",
   "execution_count": 28,
   "metadata": {
    "colab": {
     "base_uri": "https://localhost:8080/",
     "height": 442
    },
    "colab_type": "code",
    "id": "ZnOMT6Gw2Jxd",
    "outputId": "4795c74a-2644-4c59-8eb6-91362c05673d"
   },
   "outputs": [
    {
     "name": "stdout",
     "output_type": "stream",
     "text": [
      "Train on 60000 samples, validate on 10000 samples\n",
      "Epoch 1/12\n",
      "60000/60000 [==============================] - 21s 356us/step - loss: 0.2023 - acc: 0.9433 - val_loss: 0.1070 - val_acc: 0.9713\n",
      "Epoch 2/12\n",
      "60000/60000 [==============================] - 19s 320us/step - loss: 0.0896 - acc: 0.9772 - val_loss: 0.0804 - val_acc: 0.9787\n",
      "Epoch 3/12\n",
      "60000/60000 [==============================] - 19s 319us/step - loss: 0.0637 - acc: 0.9848 - val_loss: 0.0659 - val_acc: 0.9828\n",
      "Epoch 4/12\n",
      "60000/60000 [==============================] - 19s 319us/step - loss: 0.0501 - acc: 0.9880 - val_loss: 0.0555 - val_acc: 0.9843\n",
      "Epoch 5/12\n",
      "60000/60000 [==============================] - 19s 319us/step - loss: 0.0411 - acc: 0.9904 - val_loss: 0.0500 - val_acc: 0.9858\n",
      "Epoch 6/12\n",
      "60000/60000 [==============================] - 19s 318us/step - loss: 0.0353 - acc: 0.9923 - val_loss: 0.0484 - val_acc: 0.9867\n",
      "Epoch 7/12\n",
      "60000/60000 [==============================] - 19s 319us/step - loss: 0.0303 - acc: 0.9940 - val_loss: 0.0465 - val_acc: 0.9859\n",
      "Epoch 8/12\n",
      "60000/60000 [==============================] - 19s 319us/step - loss: 0.0262 - acc: 0.9951 - val_loss: 0.0475 - val_acc: 0.9856\n",
      "Epoch 9/12\n",
      "60000/60000 [==============================] - 19s 319us/step - loss: 0.0231 - acc: 0.9959 - val_loss: 0.0442 - val_acc: 0.9872\n",
      "Epoch 10/12\n",
      "60000/60000 [==============================] - 19s 319us/step - loss: 0.0203 - acc: 0.9965 - val_loss: 0.0437 - val_acc: 0.9871\n",
      "Epoch 11/12\n",
      "60000/60000 [==============================] - 19s 318us/step - loss: 0.0182 - acc: 0.9971 - val_loss: 0.0418 - val_acc: 0.9874\n",
      "Epoch 12/12\n",
      "60000/60000 [==============================] - 19s 318us/step - loss: 0.0165 - acc: 0.9978 - val_loss: 0.0418 - val_acc: 0.9868\n"
     ]
    }
   ],
   "source": [
    "model.compile(optimizer=keras.optimizers.SGD(),\n",
    "                loss=keras.losses.categorical_crossentropy,\n",
    "                metrics=['accuracy'])\n",
    "model_history=model.fit(x_train,y_train,batch_size=batch_size,\n",
    "                             epochs=epochs,\n",
    "                             verbose=1,\n",
    "                             validation_data=(x_test, y_test))"
   ]
  },
  {
   "cell_type": "code",
   "execution_count": 29,
   "metadata": {
    "colab": {
     "base_uri": "https://localhost:8080/",
     "height": 317
    },
    "colab_type": "code",
    "id": "e7AmhZcW11Et",
    "outputId": "cac585c2-d620-49c5-9952-864e6b2263ec"
   },
   "outputs": [
    {
     "name": "stdout",
     "output_type": "stream",
     "text": [
      "test score : 0.04180127617139369\n",
      "test Accuracy : 0.9868\n"
     ]
    },
    {
     "data": {
      "image/png": "[encoded data removed]",
      "text/plain": [
       "<Figure size 432x288 with 1 Axes>"
      ]
     },
     "metadata": {
      "tags": []
     },
     "output_type": "display_data"
    }
   ],
   "source": [
    "score=model.evaluate(x_test,y_test,verbose=0)\n",
    "test_score7=score[0]\n",
    "test_accuracy7=score[1]\n",
    "train_accuracy7=max(model_history.history['acc'])\n",
    "print('test score :',test_score7)\n",
    "print('test Accuracy :',test_accuracy7)\n",
    "# error plot\n",
    "x=list(range(1,epochs+1))\n",
    "vy=model_history.history['val_loss'] #validation loss\n",
    "ty=model_history.history['loss'] # train loss\n",
    "plt_dynamic(x, vy, ty)"
   ]
  },
  {
   "cell_type": "markdown",
   "metadata": {
    "colab_type": "text",
    "id": "HIrkNuh13P4m"
   },
   "source": [
    "**3 Covnet with Batch Normalization and Dropout and Sigmoid Activation and SGD optimizer and Stride**"
   ]
  },
  {
   "cell_type": "code",
   "execution_count": 35,
   "metadata": {
    "colab": {
     "base_uri": "https://localhost:8080/",
     "height": 629
    },
    "colab_type": "code",
    "id": "o0KPFt8S3PXl",
    "outputId": "6f83b573-2648-4c34-ad20-50600421aee9"
   },
   "outputs": [
    {
     "name": "stdout",
     "output_type": "stream",
     "text": [
      "_________________________________________________________________\n",
      "Layer (type)                 Output Shape              Param #   \n",
      "=================================================================\n",
      "conv2d_44 (Conv2D)           (None, 13, 13, 32)        320       \n",
      "_________________________________________________________________\n",
      "batch_normalization_31 (Batc (None, 13, 13, 32)        128       \n",
      "_________________________________________________________________\n",
      "dropout_31 (Dropout)         (None, 13, 13, 32)        0         \n",
      "_________________________________________________________________\n",
      "conv2d_45 (Conv2D)           (None, 11, 11, 64)        18496     \n",
      "_________________________________________________________________\n",
      "batch_normalization_32 (Batc (None, 11, 11, 64)        256       \n",
      "_________________________________________________________________\n",
      "dropout_32 (Dropout)         (None, 11, 11, 64)        0         \n",
      "_________________________________________________________________\n",
      "conv2d_46 (Conv2D)           (None, 5, 5, 128)         73856     \n",
      "_________________________________________________________________\n",
      "max_pooling2d_21 (MaxPooling (None, 2, 2, 128)         0         \n",
      "_________________________________________________________________\n",
      "dropout_33 (Dropout)         (None, 2, 2, 128)         0         \n",
      "_________________________________________________________________\n",
      "batch_normalization_33 (Batc (None, 2, 2, 128)         512       \n",
      "_________________________________________________________________\n",
      "flatten_10 (Flatten)         (None, 512)               0         \n",
      "_________________________________________________________________\n",
      "dense_21 (Dense)             (None, 128)               65664     \n",
      "_________________________________________________________________\n",
      "batch_normalization_34 (Batc (None, 128)               512       \n",
      "_________________________________________________________________\n",
      "dense_22 (Dense)             (None, 10)                1290      \n",
      "=================================================================\n",
      "Total params: 161,034\n",
      "Trainable params: 160,330\n",
      "Non-trainable params: 704\n",
      "_________________________________________________________________\n",
      "None\n"
     ]
    }
   ],
   "source": [
    "model = Sequential()\n",
    "model.add(Conv2D(32, kernel_size=(3, 3),strides=(2,2), activation='sigmoid',\n",
    "                 input_shape=input_shape))\n",
    "model.add(BatchNormalization())\n",
    "model.add(Dropout(0.5))\n",
    "model.add(Conv2D(64, kernel_size=(3, 3), activation='sigmoid'))\n",
    "model.add(BatchNormalization())\n",
    "model.add(Dropout(0.25))\n",
    "model.add(Conv2D(128,kernel_size=(3,3),strides=(2, 2), activation='sigmoid'))\n",
    "model.add(MaxPooling2D(pool_size=(2, 2)))\n",
    "model.add(Dropout(0.4))\n",
    "model.add(BatchNormalization())\n",
    "model.add(Flatten())\n",
    "model.add(Dense(128, activation='sigmoid'))\n",
    "model.add(BatchNormalization())\n",
    "model.add(Dense(num_classes, activation='softmax'))\n",
    "print(model.summary())"
   ]
  },
  {
   "cell_type": "code",
   "execution_count": 36,
   "metadata": {
    "colab": {
     "base_uri": "https://localhost:8080/",
     "height": 442
    },
    "colab_type": "code",
    "id": "Sglm3AHC4V3G",
    "outputId": "b7bb642d-287d-49ba-ed8a-4d5064cf1744"
   },
   "outputs": [
    {
     "name": "stdout",
     "output_type": "stream",
     "text": [
      "Train on 60000 samples, validate on 10000 samples\n",
      "Epoch 1/12\n",
      "60000/60000 [==============================] - 12s 204us/step - loss: 1.8077 - acc: 0.3978 - val_loss: 0.7481 - val_acc: 0.7777\n",
      "Epoch 2/12\n",
      "60000/60000 [==============================] - 9s 145us/step - loss: 1.0312 - acc: 0.6652 - val_loss: 0.5252 - val_acc: 0.8340\n",
      "Epoch 3/12\n",
      "60000/60000 [==============================] - 9s 150us/step - loss: 0.8036 - acc: 0.7428 - val_loss: 0.4223 - val_acc: 0.8688\n",
      "Epoch 4/12\n",
      "60000/60000 [==============================] - 9s 149us/step - loss: 0.6884 - acc: 0.7813 - val_loss: 0.3620 - val_acc: 0.8887\n",
      "Epoch 5/12\n",
      "60000/60000 [==============================] - 9s 147us/step - loss: 0.6011 - acc: 0.8108 - val_loss: 0.3198 - val_acc: 0.9018\n",
      "Epoch 6/12\n",
      "60000/60000 [==============================] - 9s 146us/step - loss: 0.5381 - acc: 0.8302 - val_loss: 0.2872 - val_acc: 0.9096\n",
      "Epoch 7/12\n",
      "60000/60000 [==============================] - 9s 146us/step - loss: 0.4900 - acc: 0.8468 - val_loss: 0.2612 - val_acc: 0.9185\n",
      "Epoch 8/12\n",
      "60000/60000 [==============================] - 9s 146us/step - loss: 0.4493 - acc: 0.8609 - val_loss: 0.2424 - val_acc: 0.9236\n",
      "Epoch 9/12\n",
      "60000/60000 [==============================] - 9s 146us/step - loss: 0.4159 - acc: 0.8725 - val_loss: 0.2229 - val_acc: 0.9304\n",
      "Epoch 10/12\n",
      "60000/60000 [==============================] - 9s 145us/step - loss: 0.3892 - acc: 0.8798 - val_loss: 0.2083 - val_acc: 0.9343\n",
      "Epoch 11/12\n",
      "60000/60000 [==============================] - 9s 145us/step - loss: 0.3601 - acc: 0.8895 - val_loss: 0.1955 - val_acc: 0.9396\n",
      "Epoch 12/12\n",
      "60000/60000 [==============================] - 9s 145us/step - loss: 0.3359 - acc: 0.8957 - val_loss: 0.1822 - val_acc: 0.9426\n"
     ]
    }
   ],
   "source": [
    "model.compile(optimizer=keras.optimizers.SGD(),\n",
    "                loss=keras.losses.categorical_crossentropy,\n",
    "                metrics=['accuracy'])\n",
    "model_history=model.fit(x_train,y_train,batch_size=batch_size,\n",
    "                             epochs=epochs,\n",
    "                             verbose=1,\n",
    "                             validation_data=(x_test, y_test))"
   ]
  },
  {
   "cell_type": "code",
   "execution_count": 37,
   "metadata": {
    "colab": {
     "base_uri": "https://localhost:8080/",
     "height": 317
    },
    "colab_type": "code",
    "id": "xcxZtHMO43Rt",
    "outputId": "f9ef8658-4c1e-4884-ae2c-6d8673895fc7"
   },
   "outputs": [
    {
     "name": "stdout",
     "output_type": "stream",
     "text": [
      "test score : 0.18218094048649072\n",
      "test Accuracy : 0.9426\n"
     ]
    },
    {
     "data": {
      "image/png": "[encoded data removed]",
      "text/plain": [
       "<Figure size 432x288 with 1 Axes>"
      ]
     },
     "metadata": {
      "tags": []
     },
     "output_type": "display_data"
    }
   ],
   "source": [
    "score=model.evaluate(x_test,y_test,verbose=0)\n",
    "test_score7=score[0]\n",
    "test_accuracy7=score[1]\n",
    "train_accuracy7=max(model_history.history['acc'])\n",
    "print('test score :',test_score7)\n",
    "print('test Accuracy :',test_accuracy7)\n",
    "# error plot\n",
    "x=list(range(1,epochs+1))\n",
    "vy=model_history.history['val_loss'] #validation loss\n",
    "ty=model_history.history['loss'] # train loss\n",
    "plt_dynamic(x, vy, ty)"
   ]
  },
  {
   "cell_type": "markdown",
   "metadata": {
    "colab_type": "text",
    "id": "3T64d5p14-If"
   },
   "source": [
    "**5 Covnet with No Batch Normalization, Dropouts and Sigmoid activation with SGD optimizer**"
   ]
  },
  {
   "cell_type": "code",
   "execution_count": 39,
   "metadata": {
    "colab": {
     "base_uri": "https://localhost:8080/",
     "height": 459
    },
    "colab_type": "code",
    "id": "4n0BeKDN48Il",
    "outputId": "87f03553-e6c6-4a92-db7c-c3a89cee4cee"
   },
   "outputs": [
    {
     "name": "stdout",
     "output_type": "stream",
     "text": [
      "_________________________________________________________________\n",
      "Layer (type)                 Output Shape              Param #   \n",
      "=================================================================\n",
      "conv2d_50 (Conv2D)           (None, 26, 26, 32)        320       \n",
      "_________________________________________________________________\n",
      "conv2d_51 (Conv2D)           (None, 24, 24, 64)        18496     \n",
      "_________________________________________________________________\n",
      "conv2d_52 (Conv2D)           (None, 22, 22, 128)       73856     \n",
      "_________________________________________________________________\n",
      "conv2d_53 (Conv2D)           (None, 20, 20, 128)       147584    \n",
      "_________________________________________________________________\n",
      "conv2d_54 (Conv2D)           (None, 18, 18, 128)       147584    \n",
      "_________________________________________________________________\n",
      "max_pooling2d_23 (MaxPooling (None, 9, 9, 128)         0         \n",
      "_________________________________________________________________\n",
      "flatten_12 (Flatten)         (None, 10368)             0         \n",
      "_________________________________________________________________\n",
      "dense_25 (Dense)             (None, 128)               1327232   \n",
      "_________________________________________________________________\n",
      "dense_26 (Dense)             (None, 10)                1290      \n",
      "=================================================================\n",
      "Total params: 1,716,362\n",
      "Trainable params: 1,716,362\n",
      "Non-trainable params: 0\n",
      "_________________________________________________________________\n",
      "None\n"
     ]
    }
   ],
   "source": [
    "model = Sequential()\n",
    "model.add(Conv2D(32, kernel_size=(3, 3),activation='sigmoid',\n",
    "                 input_shape=input_shape))\n",
    "model.add(Conv2D(64, kernel_size=(3, 3), activation='sigmoid'))\n",
    "model.add(Conv2D(128,kernel_size=(3,3),activation='sigmoid'))\n",
    "model.add(Conv2D(128,kernel_size=(3,3),activation='sigmoid'))\n",
    "model.add(Conv2D(128,kernel_size=(3,3),activation='sigmoid'))\n",
    "model.add(MaxPooling2D(pool_size=(2, 2)))\n",
    "model.add(Flatten())\n",
    "model.add(Dense(128, activation='sigmoid'))\n",
    "model.add(Dense(num_classes, activation='softmax'))\n",
    "print(model.summary())"
   ]
  },
  {
   "cell_type": "code",
   "execution_count": 40,
   "metadata": {
    "colab": {
     "base_uri": "https://localhost:8080/",
     "height": 442
    },
    "colab_type": "code",
    "id": "AJ1mQ3aA5bX-",
    "outputId": "f00cf8fa-de36-44b1-cf8a-68179e09304e"
   },
   "outputs": [
    {
     "name": "stdout",
     "output_type": "stream",
     "text": [
      "Train on 60000 samples, validate on 10000 samples\n",
      "Epoch 1/12\n",
      "60000/60000 [==============================] - 34s 574us/step - loss: 2.3078 - acc: 0.1064 - val_loss: 2.3055 - val_acc: 0.1135\n",
      "Epoch 2/12\n",
      "60000/60000 [==============================] - 32s 528us/step - loss: 2.3054 - acc: 0.1071 - val_loss: 2.3030 - val_acc: 0.1028\n",
      "Epoch 3/12\n",
      "60000/60000 [==============================] - 31s 524us/step - loss: 2.3046 - acc: 0.1053 - val_loss: 2.3047 - val_acc: 0.1010\n",
      "Epoch 4/12\n",
      "60000/60000 [==============================] - 32s 525us/step - loss: 2.3045 - acc: 0.1077 - val_loss: 2.3028 - val_acc: 0.1135\n",
      "Epoch 5/12\n",
      "60000/60000 [==============================] - 31s 525us/step - loss: 2.3037 - acc: 0.1069 - val_loss: 2.3021 - val_acc: 0.1135\n",
      "Epoch 6/12\n",
      "60000/60000 [==============================] - 31s 523us/step - loss: 2.3034 - acc: 0.1064 - val_loss: 2.3031 - val_acc: 0.1010\n",
      "Epoch 7/12\n",
      "60000/60000 [==============================] - 31s 524us/step - loss: 2.3031 - acc: 0.1083 - val_loss: 2.3017 - val_acc: 0.1135\n",
      "Epoch 8/12\n",
      "60000/60000 [==============================] - 32s 527us/step - loss: 2.3029 - acc: 0.1080 - val_loss: 2.3013 - val_acc: 0.1135\n",
      "Epoch 9/12\n",
      "60000/60000 [==============================] - 31s 523us/step - loss: 2.3029 - acc: 0.1092 - val_loss: 2.3028 - val_acc: 0.1009\n",
      "Epoch 10/12\n",
      "60000/60000 [==============================] - 31s 524us/step - loss: 2.3027 - acc: 0.1081 - val_loss: 2.3019 - val_acc: 0.1135\n",
      "Epoch 11/12\n",
      "60000/60000 [==============================] - 31s 525us/step - loss: 2.3026 - acc: 0.1077 - val_loss: 2.3017 - val_acc: 0.1135\n",
      "Epoch 12/12\n",
      "60000/60000 [==============================] - 32s 527us/step - loss: 2.3024 - acc: 0.1099 - val_loss: 2.3019 - val_acc: 0.1135\n"
     ]
    }
   ],
   "source": [
    "model.compile(optimizer=keras.optimizers.SGD(),\n",
    "                loss=keras.losses.categorical_crossentropy,\n",
    "                metrics=['accuracy'])\n",
    "model_history=model.fit(x_train,y_train,batch_size=batch_size,\n",
    "                             epochs=epochs,\n",
    "                             verbose=1,\n",
    "                             validation_data=(x_test, y_test))"
   ]
  },
  {
   "cell_type": "code",
   "execution_count": 41,
   "metadata": {
    "colab": {
     "base_uri": "https://localhost:8080/",
     "height": 317
    },
    "colab_type": "code",
    "id": "uoD0-iob5gZN",
    "outputId": "e091197b-94c6-4125-bc4c-a552011f5aa9"
   },
   "outputs": [
    {
     "name": "stdout",
     "output_type": "stream",
     "text": [
      "test score : 2.3019299713134767\n",
      "test Accuracy : 0.1135\n"
     ]
    },
    {
     "data": {
      "image/png": "[encoded data removed]",
      "text/plain": [
       "<Figure size 432x288 with 1 Axes>"
      ]
     },
     "metadata": {
      "tags": []
     },
     "output_type": "display_data"
    }
   ],
   "source": [
    "score=model.evaluate(x_test,y_test,verbose=0)\n",
    "test_score7=score[0]\n",
    "test_accuracy7=score[1]\n",
    "train_accuracy7=max(model_history.history['acc'])\n",
    "print('test score :',test_score7)\n",
    "print('test Accuracy :',test_accuracy7)\n",
    "# error plot\n",
    "x=list(range(1,epochs+1))\n",
    "vy=model_history.history['val_loss'] #validation loss\n",
    "ty=model_history.history['loss'] # train loss\n",
    "plt_dynamic(x, vy, ty)"
   ]
  },
  {
   "cell_type": "markdown",
   "metadata": {
    "colab_type": "text",
    "id": "n40ByFvG5ifY"
   },
   "source": [
    "**5 Covnet with Batch Normalization, Dropout and Sigmoid Activation and SGD optimizer and Strides**"
   ]
  },
  {
   "cell_type": "code",
   "execution_count": 49,
   "metadata": {
    "colab": {
     "base_uri": "https://localhost:8080/",
     "height": 833
    },
    "colab_type": "code",
    "id": "kLqtEPVk5hCQ",
    "outputId": "c9af4446-fddf-4327-a2d3-aa2ee74e4eec"
   },
   "outputs": [
    {
     "name": "stdout",
     "output_type": "stream",
     "text": [
      "_________________________________________________________________\n",
      "Layer (type)                 Output Shape              Param #   \n",
      "=================================================================\n",
      "conv2d_70 (Conv2D)           (None, 13, 13, 32)        320       \n",
      "_________________________________________________________________\n",
      "batch_normalization_46 (Batc (None, 13, 13, 32)        128       \n",
      "_________________________________________________________________\n",
      "dropout_45 (Dropout)         (None, 13, 13, 32)        0         \n",
      "_________________________________________________________________\n",
      "conv2d_71 (Conv2D)           (None, 11, 11, 64)        18496     \n",
      "_________________________________________________________________\n",
      "batch_normalization_47 (Batc (None, 11, 11, 64)        256       \n",
      "_________________________________________________________________\n",
      "dropout_46 (Dropout)         (None, 11, 11, 64)        0         \n",
      "_________________________________________________________________\n",
      "conv2d_72 (Conv2D)           (None, 9, 9, 64)          36928     \n",
      "_________________________________________________________________\n",
      "batch_normalization_48 (Batc (None, 9, 9, 64)          256       \n",
      "_________________________________________________________________\n",
      "dropout_47 (Dropout)         (None, 9, 9, 64)          0         \n",
      "_________________________________________________________________\n",
      "conv2d_73 (Conv2D)           (None, 7, 7, 64)          36928     \n",
      "_________________________________________________________________\n",
      "batch_normalization_49 (Batc (None, 7, 7, 64)          256       \n",
      "_________________________________________________________________\n",
      "dropout_48 (Dropout)         (None, 7, 7, 64)          0         \n",
      "_________________________________________________________________\n",
      "conv2d_74 (Conv2D)           (None, 3, 3, 128)         73856     \n",
      "_________________________________________________________________\n",
      "max_pooling2d_28 (MaxPooling (None, 1, 1, 128)         0         \n",
      "_________________________________________________________________\n",
      "dropout_49 (Dropout)         (None, 1, 1, 128)         0         \n",
      "_________________________________________________________________\n",
      "batch_normalization_50 (Batc (None, 1, 1, 128)         512       \n",
      "_________________________________________________________________\n",
      "flatten_13 (Flatten)         (None, 128)               0         \n",
      "_________________________________________________________________\n",
      "dense_27 (Dense)             (None, 128)               16512     \n",
      "_________________________________________________________________\n",
      "batch_normalization_51 (Batc (None, 128)               512       \n",
      "_________________________________________________________________\n",
      "dense_28 (Dense)             (None, 10)                1290      \n",
      "=================================================================\n",
      "Total params: 186,250\n",
      "Trainable params: 185,290\n",
      "Non-trainable params: 960\n",
      "_________________________________________________________________\n",
      "None\n"
     ]
    }
   ],
   "source": [
    "model = Sequential()\n",
    "model.add(Conv2D(32, kernel_size=(3, 3),strides=(2,2), activation='sigmoid',\n",
    "                 input_shape=input_shape))\n",
    "model.add(BatchNormalization())\n",
    "model.add(Dropout(0.5))\n",
    "model.add(Conv2D(64, kernel_size=(3, 3),activation='sigmoid'))\n",
    "model.add(BatchNormalization())\n",
    "model.add(Dropout(0.4))\n",
    "model.add(Conv2D(64, kernel_size=(3, 3), activation='sigmoid'))\n",
    "model.add(BatchNormalization())\n",
    "model.add(Dropout(0.3))\n",
    "model.add(Conv2D(64, kernel_size=(3, 3), activation='sigmoid'))\n",
    "model.add(BatchNormalization())\n",
    "model.add(Dropout(0.2))\n",
    "model.add(Conv2D(128,kernel_size=(3,3),strides=(2, 2), activation='sigmoid'))\n",
    "model.add(MaxPooling2D(pool_size=(2, 2)))\n",
    "model.add(Dropout(0.1))\n",
    "model.add(BatchNormalization())\n",
    "model.add(Flatten())\n",
    "model.add(Dense(128, activation='sigmoid'))\n",
    "model.add(BatchNormalization())\n",
    "model.add(Dense(num_classes, activation='softmax'))\n",
    "print(model.summary())"
   ]
  },
  {
   "cell_type": "code",
   "execution_count": 50,
   "metadata": {
    "colab": {
     "base_uri": "https://localhost:8080/",
     "height": 442
    },
    "colab_type": "code",
    "id": "mcqztyB89H-t",
    "outputId": "48accc23-ae22-4c41-9ec4-b4c5a4edf486"
   },
   "outputs": [
    {
     "name": "stdout",
     "output_type": "stream",
     "text": [
      "Train on 60000 samples, validate on 10000 samples\n",
      "Epoch 1/12\n",
      "60000/60000 [==============================] - 18s 306us/step - loss: 1.3384 - acc: 0.5657 - val_loss: 0.4821 - val_acc: 0.8523\n",
      "Epoch 2/12\n",
      "60000/60000 [==============================] - 14s 237us/step - loss: 0.6662 - acc: 0.7949 - val_loss: 0.3367 - val_acc: 0.8951\n",
      "Epoch 3/12\n",
      "60000/60000 [==============================] - 14s 238us/step - loss: 0.5221 - acc: 0.8385 - val_loss: 0.2752 - val_acc: 0.9132\n",
      "Epoch 4/12\n",
      "60000/60000 [==============================] - 14s 237us/step - loss: 0.4407 - acc: 0.8622 - val_loss: 0.2332 - val_acc: 0.9260\n",
      "Epoch 5/12\n",
      "60000/60000 [==============================] - 14s 237us/step - loss: 0.3911 - acc: 0.8775 - val_loss: 0.2070 - val_acc: 0.9354\n",
      "Epoch 6/12\n",
      "60000/60000 [==============================] - 14s 237us/step - loss: 0.3480 - acc: 0.8921 - val_loss: 0.1889 - val_acc: 0.9407\n",
      "Epoch 7/12\n",
      "60000/60000 [==============================] - 14s 237us/step - loss: 0.3189 - acc: 0.9003 - val_loss: 0.1717 - val_acc: 0.9460\n",
      "Epoch 8/12\n",
      "60000/60000 [==============================] - 14s 237us/step - loss: 0.2962 - acc: 0.9077 - val_loss: 0.1604 - val_acc: 0.9494\n",
      "Epoch 9/12\n",
      "60000/60000 [==============================] - 14s 237us/step - loss: 0.2773 - acc: 0.9135 - val_loss: 0.1502 - val_acc: 0.9535\n",
      "Epoch 10/12\n",
      "60000/60000 [==============================] - 14s 237us/step - loss: 0.2631 - acc: 0.9187 - val_loss: 0.1400 - val_acc: 0.9554\n",
      "Epoch 11/12\n",
      "60000/60000 [==============================] - 14s 236us/step - loss: 0.2466 - acc: 0.9227 - val_loss: 0.1336 - val_acc: 0.9577\n",
      "Epoch 12/12\n",
      "60000/60000 [==============================] - 14s 238us/step - loss: 0.2323 - acc: 0.9273 - val_loss: 0.1259 - val_acc: 0.9610\n"
     ]
    }
   ],
   "source": [
    "model.compile(optimizer=keras.optimizers.SGD(),\n",
    "                loss=keras.losses.categorical_crossentropy,\n",
    "                metrics=['accuracy'])\n",
    "model_history=model.fit(x_train,y_train,batch_size=batch_size,\n",
    "                             epochs=epochs,\n",
    "                             verbose=1,\n",
    "                             validation_data=(x_test, y_test))"
   ]
  },
  {
   "cell_type": "code",
   "execution_count": 51,
   "metadata": {
    "colab": {
     "base_uri": "https://localhost:8080/",
     "height": 317
    },
    "colab_type": "code",
    "id": "S2Jwi9kC9Oet",
    "outputId": "c29fa12c-6e88-4226-ad71-5f39e6517935"
   },
   "outputs": [
    {
     "name": "stdout",
     "output_type": "stream",
     "text": [
      "test score : 0.12591462984122337\n",
      "test Accuracy : 0.961\n"
     ]
    },
    {
     "data": {
      "image/png": "[encoded data removed]",
      "text/plain": [
       "<Figure size 432x288 with 1 Axes>"
      ]
     },
     "metadata": {
      "tags": []
     },
     "output_type": "display_data"
    }
   ],
   "source": [
    "score=model.evaluate(x_test,y_test,verbose=0)\n",
    "test_score7=score[0]\n",
    "test_accuracy7=score[1]\n",
    "train_accuracy7=max(model_history.history['acc'])\n",
    "print('test score :',test_score7)\n",
    "print('test Accuracy :',test_accuracy7)\n",
    "# error plot\n",
    "x=list(range(1,epochs+1))\n",
    "vy=model_history.history['val_loss'] #validation loss\n",
    "ty=model_history.history['loss'] # train loss\n",
    "plt_dynamic(x, vy, ty)"
   ]
  },
  {
   "cell_type": "markdown",
   "metadata": {
    "colab_type": "text",
    "id": "caCAE0qh9PZw"
   },
   "source": [
    "**7 Covnet with batch normalization and Dropout with Sigmoid activation and SGD optimizer with Strides**"
   ]
  },
  {
   "cell_type": "code",
   "execution_count": 55,
   "metadata": {
    "colab": {
     "base_uri": "https://localhost:8080/",
     "height": 1000
    },
    "colab_type": "code",
    "id": "P-GJORHn9mBY",
    "outputId": "ad0cb29f-fa7c-46eb-9e40-7c9ecfc38fa7"
   },
   "outputs": [
    {
     "name": "stdout",
     "output_type": "stream",
     "text": [
      "_________________________________________________________________\n",
      "Layer (type)                 Output Shape              Param #   \n",
      "=================================================================\n",
      "conv2d_94 (Conv2D)           (None, 13, 13, 32)        320       \n",
      "_________________________________________________________________\n",
      "batch_normalization_70 (Batc (None, 13, 13, 32)        128       \n",
      "_________________________________________________________________\n",
      "dropout_67 (Dropout)         (None, 13, 13, 32)        0         \n",
      "_________________________________________________________________\n",
      "conv2d_95 (Conv2D)           (None, 11, 11, 64)        18496     \n",
      "_________________________________________________________________\n",
      "batch_normalization_71 (Batc (None, 11, 11, 64)        256       \n",
      "_________________________________________________________________\n",
      "dropout_68 (Dropout)         (None, 11, 11, 64)        0         \n",
      "_________________________________________________________________\n",
      "conv2d_96 (Conv2D)           (None, 9, 9, 64)          36928     \n",
      "_________________________________________________________________\n",
      "batch_normalization_72 (Batc (None, 9, 9, 64)          256       \n",
      "_________________________________________________________________\n",
      "dropout_69 (Dropout)         (None, 9, 9, 64)          0         \n",
      "_________________________________________________________________\n",
      "conv2d_97 (Conv2D)           (None, 7, 7, 64)          36928     \n",
      "_________________________________________________________________\n",
      "batch_normalization_73 (Batc (None, 7, 7, 64)          256       \n",
      "_________________________________________________________________\n",
      "dropout_70 (Dropout)         (None, 7, 7, 64)          0         \n",
      "_________________________________________________________________\n",
      "conv2d_98 (Conv2D)           (None, 5, 5, 64)          36928     \n",
      "_________________________________________________________________\n",
      "batch_normalization_74 (Batc (None, 5, 5, 64)          256       \n",
      "_________________________________________________________________\n",
      "dropout_71 (Dropout)         (None, 5, 5, 64)          0         \n",
      "_________________________________________________________________\n",
      "conv2d_99 (Conv2D)           (None, 3, 3, 64)          36928     \n",
      "_________________________________________________________________\n",
      "batch_normalization_75 (Batc (None, 3, 3, 64)          256       \n",
      "_________________________________________________________________\n",
      "dropout_72 (Dropout)         (None, 3, 3, 64)          0         \n",
      "_________________________________________________________________\n",
      "conv2d_100 (Conv2D)          (None, 1, 1, 128)         73856     \n",
      "_________________________________________________________________\n",
      "dropout_73 (Dropout)         (None, 1, 1, 128)         0         \n",
      "_________________________________________________________________\n",
      "batch_normalization_76 (Batc (None, 1, 1, 128)         512       \n",
      "_________________________________________________________________\n",
      "flatten_15 (Flatten)         (None, 128)               0         \n",
      "_________________________________________________________________\n",
      "dense_31 (Dense)             (None, 128)               16512     \n",
      "_________________________________________________________________\n",
      "batch_normalization_77 (Batc (None, 128)               512       \n",
      "_________________________________________________________________\n",
      "dense_32 (Dense)             (None, 10)                1290      \n",
      "=================================================================\n",
      "Total params: 260,618\n",
      "Trainable params: 259,402\n",
      "Non-trainable params: 1,216\n",
      "_________________________________________________________________\n",
      "None\n"
     ]
    }
   ],
   "source": [
    "model = Sequential()\n",
    "model.add(Conv2D(32, kernel_size=(3, 3),strides=(2,2), activation='sigmoid',\n",
    "                 input_shape=input_shape))\n",
    "model.add(BatchNormalization())\n",
    "model.add(Dropout(0.5))\n",
    "model.add(Conv2D(64, kernel_size=(3, 3),activation='sigmoid'))\n",
    "model.add(BatchNormalization())\n",
    "model.add(Dropout(0.4))\n",
    "model.add(Conv2D(64, kernel_size=(3, 3), activation='sigmoid'))\n",
    "model.add(BatchNormalization())\n",
    "model.add(Dropout(0.3))\n",
    "model.add(Conv2D(64, kernel_size=(3, 3), activation='sigmoid'))\n",
    "model.add(BatchNormalization())\n",
    "model.add(Dropout(0.2))\n",
    "model.add(Conv2D(64, kernel_size=(3, 3), activation='sigmoid'))\n",
    "model.add(BatchNormalization())\n",
    "model.add(Dropout(0.2))\n",
    "model.add(Conv2D(64, kernel_size=(3, 3), activation='sigmoid'))\n",
    "model.add(BatchNormalization())\n",
    "model.add(Dropout(0.2))\n",
    "model.add(Conv2D(128,kernel_size=(3,3),strides=(2, 2), activation='sigmoid'))\n",
    "model.add(Dropout(0.1))\n",
    "model.add(BatchNormalization())\n",
    "model.add(Flatten())\n",
    "model.add(Dense(128, activation='sigmoid'))\n",
    "model.add(BatchNormalization())\n",
    "model.add(Dense(num_classes, activation='softmax'))\n",
    "print(model.summary())"
   ]
  },
  {
   "cell_type": "code",
   "execution_count": 56,
   "metadata": {
    "colab": {
     "base_uri": "https://localhost:8080/",
     "height": 442
    },
    "colab_type": "code",
    "id": "_IrYZTp791tv",
    "outputId": "cca2497f-3575-471f-81a1-a5d69b8d057a"
   },
   "outputs": [
    {
     "name": "stdout",
     "output_type": "stream",
     "text": [
      "Train on 60000 samples, validate on 10000 samples\n",
      "Epoch 1/12\n",
      "60000/60000 [==============================] - 22s 369us/step - loss: 0.8240 - acc: 0.7353 - val_loss: 0.3630 - val_acc: 0.8900\n",
      "Epoch 2/12\n",
      "60000/60000 [==============================] - 17s 286us/step - loss: 0.4815 - acc: 0.8532 - val_loss: 0.2840 - val_acc: 0.9144\n",
      "Epoch 3/12\n",
      "60000/60000 [==============================] - 17s 286us/step - loss: 0.4042 - acc: 0.8782 - val_loss: 0.2346 - val_acc: 0.9284\n",
      "Epoch 4/12\n",
      "60000/60000 [==============================] - 17s 285us/step - loss: 0.3517 - acc: 0.8921 - val_loss: 0.2035 - val_acc: 0.9378\n",
      "Epoch 5/12\n",
      "60000/60000 [==============================] - 17s 285us/step - loss: 0.3173 - acc: 0.9027 - val_loss: 0.1815 - val_acc: 0.9425\n",
      "Epoch 6/12\n",
      "60000/60000 [==============================] - 17s 288us/step - loss: 0.2840 - acc: 0.9115 - val_loss: 0.1551 - val_acc: 0.9516\n",
      "Epoch 7/12\n",
      "60000/60000 [==============================] - 17s 286us/step - loss: 0.2581 - acc: 0.9216 - val_loss: 0.1408 - val_acc: 0.9559\n",
      "Epoch 8/12\n",
      "60000/60000 [==============================] - 17s 285us/step - loss: 0.2391 - acc: 0.9258 - val_loss: 0.1274 - val_acc: 0.9603\n",
      "Epoch 9/12\n",
      "60000/60000 [==============================] - 17s 287us/step - loss: 0.2213 - acc: 0.9320 - val_loss: 0.1161 - val_acc: 0.9645\n",
      "Epoch 10/12\n",
      "60000/60000 [==============================] - 17s 285us/step - loss: 0.2062 - acc: 0.9358 - val_loss: 0.1092 - val_acc: 0.9646\n",
      "Epoch 11/12\n",
      "60000/60000 [==============================] - 17s 285us/step - loss: 0.1934 - acc: 0.9399 - val_loss: 0.1009 - val_acc: 0.9678\n",
      "Epoch 12/12\n",
      "60000/60000 [==============================] - 17s 285us/step - loss: 0.1825 - acc: 0.9435 - val_loss: 0.0942 - val_acc: 0.9692\n"
     ]
    }
   ],
   "source": [
    "model.compile(optimizer=keras.optimizers.SGD(),\n",
    "                loss=keras.losses.categorical_crossentropy,\n",
    "                metrics=['accuracy'])\n",
    "model_history=model.fit(x_train,y_train,batch_size=batch_size,\n",
    "                             epochs=epochs,\n",
    "                             verbose=1,\n",
    "                             validation_data=(x_test, y_test))"
   ]
  },
  {
   "cell_type": "code",
   "execution_count": 57,
   "metadata": {
    "colab": {
     "base_uri": "https://localhost:8080/",
     "height": 317
    },
    "colab_type": "code",
    "id": "V4SMGzET_Llk",
    "outputId": "0a47bea9-b1e1-4062-9db1-ab22eecc8f24"
   },
   "outputs": [
    {
     "name": "stdout",
     "output_type": "stream",
     "text": [
      "test score : 0.09424485847707838\n",
      "test Accuracy : 0.9692\n"
     ]
    },
    {
     "data": {
      "image/png": "[encoded data removed]",
      "text/plain": [
       "<Figure size 432x288 with 1 Axes>"
      ]
     },
     "metadata": {
      "tags": []
     },
     "output_type": "display_data"
    }
   ],
   "source": [
    "score=model.evaluate(x_test,y_test,verbose=0)\n",
    "test_score7=score[0]\n",
    "test_accuracy7=score[1]\n",
    "train_accuracy7=max(model_history.history['acc'])\n",
    "print('test score :',test_score7)\n",
    "print('test Accuracy :',test_accuracy7)\n",
    "# error plot\n",
    "x=list(range(1,epochs+1))\n",
    "vy=model_history.history['val_loss'] #validation loss\n",
    "ty=model_history.history['loss'] # train loss\n",
    "plt_dynamic(x, vy, ty)"
   ]
  },
  {
   "cell_type": "markdown",
   "metadata": {
    "colab_type": "text",
    "id": "4hNA_mlKGs7n"
   },
   "source": [
    "**4 Covnets with Dropouts, Batch Normalization, SGD Optimizer and Sigmoid Activation with Strides**"
   ]
  },
  {
   "cell_type": "code",
   "execution_count": 65,
   "metadata": {
    "colab": {
     "base_uri": "https://localhost:8080/",
     "height": 731
    },
    "colab_type": "code",
    "id": "6M84cSA4Gr_Q",
    "outputId": "245c15d1-e9a7-4f4b-8e0c-9196dacc60c2"
   },
   "outputs": [
    {
     "name": "stdout",
     "output_type": "stream",
     "text": [
      "_________________________________________________________________\n",
      "Layer (type)                 Output Shape              Param #   \n",
      "=================================================================\n",
      "conv2d_104 (Conv2D)          (None, 13, 13, 32)        320       \n",
      "_________________________________________________________________\n",
      "batch_normalization_82 (Batc (None, 13, 13, 32)        128       \n",
      "_________________________________________________________________\n",
      "dropout_77 (Dropout)         (None, 13, 13, 32)        0         \n",
      "_________________________________________________________________\n",
      "conv2d_105 (Conv2D)          (None, 11, 11, 64)        18496     \n",
      "_________________________________________________________________\n",
      "batch_normalization_83 (Batc (None, 11, 11, 64)        256       \n",
      "_________________________________________________________________\n",
      "dropout_78 (Dropout)         (None, 11, 11, 64)        0         \n",
      "_________________________________________________________________\n",
      "conv2d_106 (Conv2D)          (None, 9, 9, 64)          36928     \n",
      "_________________________________________________________________\n",
      "batch_normalization_84 (Batc (None, 9, 9, 64)          256       \n",
      "_________________________________________________________________\n",
      "dropout_79 (Dropout)         (None, 9, 9, 64)          0         \n",
      "_________________________________________________________________\n",
      "conv2d_107 (Conv2D)          (None, 4, 4, 128)         73856     \n",
      "_________________________________________________________________\n",
      "max_pooling2d_33 (MaxPooling (None, 2, 2, 128)         0         \n",
      "_________________________________________________________________\n",
      "dropout_80 (Dropout)         (None, 2, 2, 128)         0         \n",
      "_________________________________________________________________\n",
      "batch_normalization_85 (Batc (None, 2, 2, 128)         512       \n",
      "_________________________________________________________________\n",
      "flatten_17 (Flatten)         (None, 512)               0         \n",
      "_________________________________________________________________\n",
      "dense_35 (Dense)             (None, 128)               65664     \n",
      "_________________________________________________________________\n",
      "batch_normalization_86 (Batc (None, 128)               512       \n",
      "_________________________________________________________________\n",
      "dense_36 (Dense)             (None, 10)                1290      \n",
      "=================================================================\n",
      "Total params: 198,218\n",
      "Trainable params: 197,386\n",
      "Non-trainable params: 832\n",
      "_________________________________________________________________\n",
      "None\n"
     ]
    }
   ],
   "source": [
    "model = Sequential()\n",
    "model.add(Conv2D(32, kernel_size=(3, 3),strides=(2,2), activation='sigmoid',\n",
    "                 input_shape=input_shape))\n",
    "model.add(BatchNormalization())\n",
    "model.add(Dropout(0.5))\n",
    "model.add(Conv2D(64, kernel_size=(3, 3),activation='sigmoid'))\n",
    "model.add(BatchNormalization())\n",
    "model.add(Dropout(0.4))\n",
    "model.add(Conv2D(64, kernel_size=(3, 3), activation='sigmoid'))\n",
    "model.add(BatchNormalization())\n",
    "model.add(Dropout(0.3))\n",
    "model.add(Conv2D(128,kernel_size=(3,3),strides=(2, 2), activation='sigmoid'))\n",
    "model.add(MaxPooling2D(pool_size=(2, 2)))\n",
    "model.add(Dropout(0.1))\n",
    "model.add(BatchNormalization())\n",
    "model.add(Flatten())\n",
    "model.add(Dense(128, activation='sigmoid'))\n",
    "model.add(BatchNormalization())\n",
    "model.add(Dense(num_classes, activation='softmax'))\n",
    "print(model.summary())"
   ]
  },
  {
   "cell_type": "code",
   "execution_count": 66,
   "metadata": {
    "colab": {
     "base_uri": "https://localhost:8080/",
     "height": 442
    },
    "colab_type": "code",
    "id": "GsYsRcEeG8de",
    "outputId": "3dc06621-05ad-42e7-c5c7-8eddf4216d45"
   },
   "outputs": [
    {
     "name": "stdout",
     "output_type": "stream",
     "text": [
      "Train on 60000 samples, validate on 10000 samples\n",
      "Epoch 1/12\n",
      "60000/60000 [==============================] - 18s 294us/step - loss: 1.1670 - acc: 0.6206 - val_loss: 0.3591 - val_acc: 0.8875\n",
      "Epoch 2/12\n",
      "60000/60000 [==============================] - 13s 212us/step - loss: 0.5246 - acc: 0.8358 - val_loss: 0.2440 - val_acc: 0.9241\n",
      "Epoch 3/12\n",
      "60000/60000 [==============================] - 13s 209us/step - loss: 0.4063 - acc: 0.8739 - val_loss: 0.1956 - val_acc: 0.9384\n",
      "Epoch 4/12\n",
      "60000/60000 [==============================] - 12s 205us/step - loss: 0.3459 - acc: 0.8930 - val_loss: 0.1674 - val_acc: 0.9462\n",
      "Epoch 5/12\n",
      "60000/60000 [==============================] - 12s 206us/step - loss: 0.3024 - acc: 0.9057 - val_loss: 0.1489 - val_acc: 0.9519\n",
      "Epoch 6/12\n",
      "60000/60000 [==============================] - 12s 206us/step - loss: 0.2770 - acc: 0.9132 - val_loss: 0.1339 - val_acc: 0.9573\n",
      "Epoch 7/12\n",
      "60000/60000 [==============================] - 12s 206us/step - loss: 0.2539 - acc: 0.9198 - val_loss: 0.1232 - val_acc: 0.9594\n",
      "Epoch 8/12\n",
      "60000/60000 [==============================] - 12s 206us/step - loss: 0.2344 - acc: 0.9268 - val_loss: 0.1153 - val_acc: 0.9628\n",
      "Epoch 9/12\n",
      "60000/60000 [==============================] - 12s 207us/step - loss: 0.2194 - acc: 0.9312 - val_loss: 0.1072 - val_acc: 0.9645\n",
      "Epoch 10/12\n",
      "60000/60000 [==============================] - 12s 206us/step - loss: 0.2060 - acc: 0.9355 - val_loss: 0.1004 - val_acc: 0.9676\n",
      "Epoch 11/12\n",
      "60000/60000 [==============================] - 12s 206us/step - loss: 0.1950 - acc: 0.9402 - val_loss: 0.0963 - val_acc: 0.9691\n",
      "Epoch 12/12\n",
      "60000/60000 [==============================] - 12s 206us/step - loss: 0.1821 - acc: 0.9438 - val_loss: 0.0906 - val_acc: 0.9706\n"
     ]
    }
   ],
   "source": [
    "model.compile(optimizer=keras.optimizers.SGD(),\n",
    "                loss=keras.losses.categorical_crossentropy,\n",
    "                metrics=['accuracy'])\n",
    "model_history=model.fit(x_train,y_train,batch_size=batch_size,\n",
    "                             epochs=epochs,\n",
    "                             verbose=1,\n",
    "                             validation_data=(x_test, y_test))"
   ]
  },
  {
   "cell_type": "code",
   "execution_count": 67,
   "metadata": {
    "colab": {
     "base_uri": "https://localhost:8080/",
     "height": 317
    },
    "colab_type": "code",
    "id": "FaXPAi8rG_uM",
    "outputId": "ef65d725-94ce-41a5-beeb-f3f2d40fe7a4"
   },
   "outputs": [
    {
     "name": "stdout",
     "output_type": "stream",
     "text": [
      "test score : 0.09062021687589586\n",
      "test Accuracy : 0.9706\n"
     ]
    },
    {
     "data": {
      "image/png": "[encoded data removed]",
      "text/plain": [
       "<Figure size 432x288 with 1 Axes>"
      ]
     },
     "metadata": {
      "tags": []
     },
     "output_type": "display_data"
    }
   ],
   "source": [
    "score=model.evaluate(x_test,y_test,verbose=0)\n",
    "test_score7=score[0]\n",
    "test_accuracy7=score[1]\n",
    "train_accuracy7=max(model_history.history['acc'])\n",
    "print('test score :',test_score7)\n",
    "print('test Accuracy :',test_accuracy7)\n",
    "# error plot\n",
    "x=list(range(1,epochs+1))\n",
    "vy=model_history.history['val_loss'] #validation loss\n",
    "ty=model_history.history['loss'] # train loss\n",
    "plt_dynamic(x, vy, ty)"
   ]
  },
  {
   "cell_type": "markdown",
   "metadata": {
    "colab_type": "text",
    "id": "_b0aQly0HBPA"
   },
   "source": [
    "**2 Covnets with  Dropouts, Batch Normalization, SGD Optimizer and Sigmoid Activation with Strides**"
   ]
  },
  {
   "cell_type": "code",
   "execution_count": 68,
   "metadata": {
    "colab": {
     "base_uri": "https://localhost:8080/",
     "height": 527
    },
    "colab_type": "code",
    "id": "Gd_ye9xXHHRZ",
    "outputId": "e911e8ad-a598-4710-9a74-435749dd5c3b"
   },
   "outputs": [
    {
     "name": "stdout",
     "output_type": "stream",
     "text": [
      "_________________________________________________________________\n",
      "Layer (type)                 Output Shape              Param #   \n",
      "=================================================================\n",
      "conv2d_108 (Conv2D)          (None, 13, 13, 32)        320       \n",
      "_________________________________________________________________\n",
      "batch_normalization_87 (Batc (None, 13, 13, 32)        128       \n",
      "_________________________________________________________________\n",
      "dropout_81 (Dropout)         (None, 13, 13, 32)        0         \n",
      "_________________________________________________________________\n",
      "conv2d_109 (Conv2D)          (None, 6, 6, 128)         36992     \n",
      "_________________________________________________________________\n",
      "max_pooling2d_34 (MaxPooling (None, 3, 3, 128)         0         \n",
      "_________________________________________________________________\n",
      "dropout_82 (Dropout)         (None, 3, 3, 128)         0         \n",
      "_________________________________________________________________\n",
      "batch_normalization_88 (Batc (None, 3, 3, 128)         512       \n",
      "_________________________________________________________________\n",
      "flatten_18 (Flatten)         (None, 1152)              0         \n",
      "_________________________________________________________________\n",
      "dense_37 (Dense)             (None, 128)               147584    \n",
      "_________________________________________________________________\n",
      "batch_normalization_89 (Batc (None, 128)               512       \n",
      "_________________________________________________________________\n",
      "dense_38 (Dense)             (None, 10)                1290      \n",
      "=================================================================\n",
      "Total params: 187,338\n",
      "Trainable params: 186,762\n",
      "Non-trainable params: 576\n",
      "_________________________________________________________________\n",
      "None\n"
     ]
    }
   ],
   "source": [
    "model = Sequential()\n",
    "model.add(Conv2D(32, kernel_size=(3, 3),strides=(2,2), activation='sigmoid',\n",
    "                 input_shape=input_shape))\n",
    "model.add(BatchNormalization())\n",
    "model.add(Dropout(0.5))\n",
    "model.add(Conv2D(128,kernel_size=(3,3),strides=(2, 2), activation='sigmoid'))\n",
    "model.add(MaxPooling2D(pool_size=(2, 2)))\n",
    "model.add(Dropout(0.1))\n",
    "model.add(BatchNormalization())\n",
    "model.add(Flatten())\n",
    "model.add(Dense(128, activation='sigmoid'))\n",
    "model.add(BatchNormalization())\n",
    "model.add(Dense(num_classes, activation='softmax'))\n",
    "print(model.summary())"
   ]
  },
  {
   "cell_type": "code",
   "execution_count": 69,
   "metadata": {
    "colab": {
     "base_uri": "https://localhost:8080/",
     "height": 442
    },
    "colab_type": "code",
    "id": "KdPPAIu8Hy4P",
    "outputId": "d173f5bc-ba16-4a49-ff43-60518eb0bd86"
   },
   "outputs": [
    {
     "name": "stdout",
     "output_type": "stream",
     "text": [
      "Train on 60000 samples, validate on 10000 samples\n",
      "Epoch 1/12\n",
      "60000/60000 [==============================] - 11s 191us/step - loss: 1.1717 - acc: 0.6134 - val_loss: 0.4258 - val_acc: 0.8693\n",
      "Epoch 2/12\n",
      "60000/60000 [==============================] - 7s 116us/step - loss: 0.5661 - acc: 0.8194 - val_loss: 0.3031 - val_acc: 0.9066\n",
      "Epoch 3/12\n",
      "60000/60000 [==============================] - 7s 114us/step - loss: 0.4468 - acc: 0.8592 - val_loss: 0.2534 - val_acc: 0.9219\n",
      "Epoch 4/12\n",
      "60000/60000 [==============================] - 7s 114us/step - loss: 0.3902 - acc: 0.8777 - val_loss: 0.2240 - val_acc: 0.9294\n",
      "Epoch 5/12\n",
      "60000/60000 [==============================] - 7s 115us/step - loss: 0.3505 - acc: 0.8908 - val_loss: 0.1982 - val_acc: 0.9389\n",
      "Epoch 6/12\n",
      "60000/60000 [==============================] - 7s 114us/step - loss: 0.3223 - acc: 0.8990 - val_loss: 0.1817 - val_acc: 0.9432\n",
      "Epoch 7/12\n",
      "60000/60000 [==============================] - 7s 115us/step - loss: 0.2996 - acc: 0.9077 - val_loss: 0.1655 - val_acc: 0.9483\n",
      "Epoch 8/12\n",
      "60000/60000 [==============================] - 7s 115us/step - loss: 0.2816 - acc: 0.9116 - val_loss: 0.1561 - val_acc: 0.9495\n",
      "Epoch 9/12\n",
      "60000/60000 [==============================] - 7s 114us/step - loss: 0.2618 - acc: 0.9184 - val_loss: 0.1451 - val_acc: 0.9535\n",
      "Epoch 10/12\n",
      "60000/60000 [==============================] - 7s 114us/step - loss: 0.2483 - acc: 0.9224 - val_loss: 0.1368 - val_acc: 0.9562\n",
      "Epoch 11/12\n",
      "60000/60000 [==============================] - 7s 114us/step - loss: 0.2361 - acc: 0.9268 - val_loss: 0.1279 - val_acc: 0.9592\n",
      "Epoch 12/12\n",
      "60000/60000 [==============================] - 7s 114us/step - loss: 0.2214 - acc: 0.9314 - val_loss: 0.1228 - val_acc: 0.9601\n"
     ]
    }
   ],
   "source": [
    "model.compile(optimizer=keras.optimizers.SGD(),\n",
    "                loss=keras.losses.categorical_crossentropy,\n",
    "                metrics=['accuracy'])\n",
    "model_history=model.fit(x_train,y_train,batch_size=batch_size,\n",
    "                             epochs=epochs,\n",
    "                             verbose=1,\n",
    "                             validation_data=(x_test, y_test))"
   ]
  },
  {
   "cell_type": "code",
   "execution_count": 70,
   "metadata": {
    "colab": {
     "base_uri": "https://localhost:8080/",
     "height": 317
    },
    "colab_type": "code",
    "id": "yo3P8OTrH4vY",
    "outputId": "ec3c9938-cec0-4dc7-b6c9-25a5c71fdcb1"
   },
   "outputs": [
    {
     "name": "stdout",
     "output_type": "stream",
     "text": [
      "test score : 0.12283125995770097\n",
      "test Accuracy : 0.9601\n"
     ]
    },
    {
     "data": {
      "image/png": "[encoded data removed]",
      "text/plain": [
       "<Figure size 432x288 with 1 Axes>"
      ]
     },
     "metadata": {
      "tags": []
     },
     "output_type": "display_data"
    }
   ],
   "source": [
    "score=model.evaluate(x_test,y_test,verbose=0)\n",
    "test_score7=score[0]\n",
    "test_accuracy7=score[1]\n",
    "train_accuracy7=max(model_history.history['acc'])\n",
    "print('test score :',test_score7)\n",
    "print('test Accuracy :',test_accuracy7)\n",
    "# error plot\n",
    "x=list(range(1,epochs+1))\n",
    "vy=model_history.history['val_loss'] #validation loss\n",
    "ty=model_history.history['loss'] # train loss\n",
    "plt_dynamic(x, vy, ty)"
   ]
  },
  {
   "cell_type": "code",
   "execution_count": 71,
   "metadata": {
    "colab": {
     "base_uri": "https://localhost:8080/",
     "height": 272
    },
    "colab_type": "code",
    "id": "r1-kstrvbKqU",
    "outputId": "dce88c96-145a-43a8-c63e-7e30c24f7793"
   },
   "outputs": [
    {
     "name": "stdout",
     "output_type": "stream",
     "text": [
      "+---------------+---------------------+------------+---------+-----------+-------------------+---------------+---------+\n",
      "| No of CovNets | Batch Normalization | Activation | Dropout | Optimizer | Training Accuracy | Test Accuracy | Strides |\n",
      "+---------------+---------------------+------------+---------+-----------+-------------------+---------------+---------+\n",
      "|       3       |         yes         |    relu    |   yes   |    Adam   |       99.53       |     99.32     |    No   |\n",
      "|       5       |         yes         |    relu    |   yes   |    Adam   |       99.55       |     99.39     |    No   |\n",
      "|       7       |         yes         |    relu    |   yes   |    Adam   |       98.44       |     99.23     |    No   |\n",
      "|       3       |          no         |  sigmoid   |    no   |    SGD    |       10.39       |     11.35     |    No   |\n",
      "|       3       |         yes         |  sigmoid   |    no   |    SGD    |       99.79       |     98.68     |    No   |\n",
      "|       3       |         yes         |  sigmoid   |   yes   |    SGD    |       89.57       |     94.26     |   yes   |\n",
      "|       5       |          no         |  sigmoid   |    no   |    SGD    |       10.99       |     11.35     |    No   |\n",
      "|       5       |         yes         |  sigmoid   |   yes   |    SGD    |       92.73       |     96.10     |   Yes   |\n",
      "|       7       |         yes         |  sigmoid   |   yes   |    SGD    |       94.35       |     96.92     |   yes   |\n",
      "|       4       |         yes         |  sigmoid   |   yes   |    SGD    |       94.38       |     97.06     |   yes   |\n",
      "|       2       |         yes         |  sigmoid   |   yes   |    SGD    |        93.4       |     96.01     |   yes   |\n",
      "+---------------+---------------------+------------+---------+-----------+-------------------+---------------+---------+\n"
     ]
    }
   ],
   "source": [
    "from prettytable import PrettyTable\n",
    "\n",
    "x = PrettyTable()\n",
    "x.field_names = [\"No of CovNets\",\"Batch Normalization\",\"Activation\",\"Dropout\",\"Optimizer\",\"Training Accuracy\",\"Test Accuracy\",\"Strides\"]\n",
    "x.add_row([\"3\",\"yes\",\"relu\",\"yes\",\"Adam\",\"99.53\",\"99.32\",\"No\"])\n",
    "x.add_row([\"5\",\"yes\",\"relu\",\"yes\",\"Adam\",\"99.55\",\"99.39\",\"No\"])\n",
    "x.add_row([\"7\",\"yes\",\"relu\",\"yes\",\"Adam\",\"98.44\",\"99.23\",\"No\"])\n",
    "x.add_row([\"3\",\"no\",\"sigmoid\",\"no\",\"SGD\",\"10.39\",\"11.35\",\"No\"])\n",
    "x.add_row([\"3\",\"yes\",\"sigmoid\",\"no\",\"SGD\",\"99.79\",\"98.68\",\"No\"])\n",
    "x.add_row([\"3\",\"yes\",\"sigmoid\",\"yes\",\"SGD\",\"89.57\",\"94.26\",\"yes\"])\n",
    "x.add_row([\"5\",\"no\",\"sigmoid\",\"no\",\"SGD\",\"10.99\",\"11.35\",\"No\"])\n",
    "x.add_row([\"5\",\"yes\",\"sigmoid\",\"yes\",\"SGD\",\"92.73\",\"96.10\",\"Yes\"])\n",
    "x.add_row([\"7\",\"yes\",\"sigmoid\",\"yes\",\"SGD\",\"94.35\",\"96.92\",\"yes\"])\n",
    "x.add_row([\"4\",\"yes\",\"sigmoid\",\"yes\",\"SGD\",\"94.38\",\"97.06\",\"yes\"])\n",
    "x.add_row([\"2\",\"yes\",\"sigmoid\",\"yes\",\"SGD\",\"93.4\",\"96.01\",\"yes\"])\n",
    "print(x)"
   ]
  },
  {
   "cell_type": "markdown",
   "metadata": {
    "colab_type": "text",
    "id": "pWeIg7J0cUK5"
   },
   "source": [
    "**Conclusion**\n",
    "\n",
    "1. All the models are build using MNIST dataset\n",
    "2. The Training accuracy and the Test Accuracy for all the models are very good with the highest for 5 Covnets with relu acitvation and Adam Optimizer and using Batch Normalization and Droputs.\n",
    "3. The models with no Batch Normalization and Dropouts with SGD Optimizer and Sigmoid activation has the lowest testing and training accuracy for both 5 Layer Covnet and 3 layer Covnet\n",
    "4. The performance of all the models except the ones describe above is good with all test accuracies more than 90.\n",
    "5. The usage of Strides didnot increase the performance of the models\n",
    "6. Overall Sigmoid activation and SGD Optimizer is giving better performance\n",
    "7. Batch Normalization and Dropouts have significant effect on the performance of the modes"
   ]
  },
  {
   "cell_type": "code",
   "execution_count": 0,
   "metadata": {
    "colab": {},
    "colab_type": "code",
    "id": "s4Zr9FuycsNT"
   },
   "outputs": [],
   "source": []
  }
 ],
 "metadata": {
  "accelerator": "GPU",
  "colab": {
   "collapsed_sections": [],
   "name": "aganirbanghosh007@gmail.com_13.ipynb",
   "provenance": [],
   "version": "0.3.2"
  },
  "kernelspec": {
   "display_name": "Python 3",
   "language": "python",
   "name": "python3"
  },
  "language_info": {
   "codemirror_mode": {
    "name": "ipython",
    "version": 3
   },
   "file_extension": ".py",
   "mimetype": "text/x-python",
   "name": "python",
   "nbconvert_exporter": "python",
   "pygments_lexer": "ipython3",
   "version": "3.6.5"
  }
 },
 "nbformat": 4,
 "nbformat_minor": 1
}
